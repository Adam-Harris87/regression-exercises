{
 "cells": [
  {
   "cell_type": "code",
   "execution_count": 1,
   "id": "a2b48542",
   "metadata": {},
   "outputs": [],
   "source": [
    "import numpy as np\n",
    "import pandas as pd\n",
    "import os\n",
    "import matplotlib.pyplot as plt\n",
    "import seaborn as sns"
   ]
  },
  {
   "cell_type": "code",
   "execution_count": 56,
   "id": "e1de2bf2",
   "metadata": {},
   "outputs": [],
   "source": [
    "# if we have os imported we can see if a file exists\n",
    "def acquire_student_grades():\n",
    "    if os.path.exists('student_grades.csv'):\n",
    "        return pd.read_csv('student_grades.csv')\n",
    "    else:\n",
    "        print('Could not find student_grades file')\n",
    "        return None"
   ]
  },
  {
   "cell_type": "code",
   "execution_count": null,
   "id": "caebbb0e",
   "metadata": {},
   "outputs": [],
   "source": [
    "# can also use try/except in order to pull in the data\n",
    "# try:\n",
    "#     try to do this thing (load the data)\n",
    "# except:\n",
    "#     if there is an error then do this (give an error message that file doesn't exist)"
   ]
  },
  {
   "cell_type": "code",
   "execution_count": 6,
   "id": "59f2abfb",
   "metadata": {},
   "outputs": [],
   "source": [
    "df = acquire_student_grades()"
   ]
  },
  {
   "cell_type": "code",
   "execution_count": 7,
   "id": "3b9f9206",
   "metadata": {},
   "outputs": [
    {
     "data": {
      "text/html": [
       "<div>\n",
       "<style scoped>\n",
       "    .dataframe tbody tr th:only-of-type {\n",
       "        vertical-align: middle;\n",
       "    }\n",
       "\n",
       "    .dataframe tbody tr th {\n",
       "        vertical-align: top;\n",
       "    }\n",
       "\n",
       "    .dataframe thead th {\n",
       "        text-align: right;\n",
       "    }\n",
       "</style>\n",
       "<table border=\"1\" class=\"dataframe\">\n",
       "  <thead>\n",
       "    <tr style=\"text-align: right;\">\n",
       "      <th></th>\n",
       "      <th>student_id</th>\n",
       "      <th>exam1</th>\n",
       "      <th>exam2</th>\n",
       "      <th>exam3</th>\n",
       "      <th>final_grade</th>\n",
       "    </tr>\n",
       "  </thead>\n",
       "  <tbody>\n",
       "    <tr>\n",
       "      <th>0</th>\n",
       "      <td>1</td>\n",
       "      <td>100.0</td>\n",
       "      <td>90</td>\n",
       "      <td>95.0</td>\n",
       "      <td>96</td>\n",
       "    </tr>\n",
       "    <tr>\n",
       "      <th>1</th>\n",
       "      <td>2</td>\n",
       "      <td>98.0</td>\n",
       "      <td>93</td>\n",
       "      <td>96.0</td>\n",
       "      <td>95</td>\n",
       "    </tr>\n",
       "    <tr>\n",
       "      <th>2</th>\n",
       "      <td>3</td>\n",
       "      <td>85.0</td>\n",
       "      <td>83</td>\n",
       "      <td>87.0</td>\n",
       "      <td>87</td>\n",
       "    </tr>\n",
       "    <tr>\n",
       "      <th>3</th>\n",
       "      <td>4</td>\n",
       "      <td>83.0</td>\n",
       "      <td>80</td>\n",
       "      <td>86.0</td>\n",
       "      <td>85</td>\n",
       "    </tr>\n",
       "    <tr>\n",
       "      <th>4</th>\n",
       "      <td>5</td>\n",
       "      <td>93.0</td>\n",
       "      <td>90</td>\n",
       "      <td>96.0</td>\n",
       "      <td>97</td>\n",
       "    </tr>\n",
       "  </tbody>\n",
       "</table>\n",
       "</div>"
      ],
      "text/plain": [
       "   student_id  exam1  exam2  exam3  final_grade\n",
       "0           1  100.0     90   95.0           96\n",
       "1           2   98.0     93   96.0           95\n",
       "2           3   85.0     83   87.0           87\n",
       "3           4   83.0     80   86.0           85\n",
       "4           5   93.0     90   96.0           97"
      ]
     },
     "execution_count": 7,
     "metadata": {},
     "output_type": "execute_result"
    }
   ],
   "source": [
    "df.head()"
   ]
  },
  {
   "cell_type": "code",
   "execution_count": 9,
   "id": "f0bf159d",
   "metadata": {},
   "outputs": [
    {
     "data": {
      "text/html": [
       "<div>\n",
       "<style scoped>\n",
       "    .dataframe tbody tr th:only-of-type {\n",
       "        vertical-align: middle;\n",
       "    }\n",
       "\n",
       "    .dataframe tbody tr th {\n",
       "        vertical-align: top;\n",
       "    }\n",
       "\n",
       "    .dataframe thead th {\n",
       "        text-align: right;\n",
       "    }\n",
       "</style>\n",
       "<table border=\"1\" class=\"dataframe\">\n",
       "  <thead>\n",
       "    <tr style=\"text-align: right;\">\n",
       "      <th></th>\n",
       "      <th>student_id</th>\n",
       "      <th>exam1</th>\n",
       "      <th>exam2</th>\n",
       "      <th>exam3</th>\n",
       "      <th>final_grade</th>\n",
       "    </tr>\n",
       "  </thead>\n",
       "  <tbody>\n",
       "    <tr>\n",
       "      <th>count</th>\n",
       "      <td>104.000000</td>\n",
       "      <td>103.000000</td>\n",
       "      <td>104.000000</td>\n",
       "      <td>103.000000</td>\n",
       "      <td>104.000000</td>\n",
       "    </tr>\n",
       "    <tr>\n",
       "      <th>mean</th>\n",
       "      <td>52.500000</td>\n",
       "      <td>78.398058</td>\n",
       "      <td>77.307692</td>\n",
       "      <td>84.242718</td>\n",
       "      <td>81.692308</td>\n",
       "    </tr>\n",
       "    <tr>\n",
       "      <th>std</th>\n",
       "      <td>30.166206</td>\n",
       "      <td>14.339948</td>\n",
       "      <td>10.295703</td>\n",
       "      <td>8.709321</td>\n",
       "      <td>10.918122</td>\n",
       "    </tr>\n",
       "    <tr>\n",
       "      <th>min</th>\n",
       "      <td>1.000000</td>\n",
       "      <td>57.000000</td>\n",
       "      <td>65.000000</td>\n",
       "      <td>70.000000</td>\n",
       "      <td>65.000000</td>\n",
       "    </tr>\n",
       "    <tr>\n",
       "      <th>25%</th>\n",
       "      <td>26.750000</td>\n",
       "      <td>70.000000</td>\n",
       "      <td>70.000000</td>\n",
       "      <td>78.000000</td>\n",
       "      <td>72.000000</td>\n",
       "    </tr>\n",
       "    <tr>\n",
       "      <th>50%</th>\n",
       "      <td>52.500000</td>\n",
       "      <td>79.000000</td>\n",
       "      <td>75.000000</td>\n",
       "      <td>85.000000</td>\n",
       "      <td>81.000000</td>\n",
       "    </tr>\n",
       "    <tr>\n",
       "      <th>75%</th>\n",
       "      <td>78.250000</td>\n",
       "      <td>92.000000</td>\n",
       "      <td>89.000000</td>\n",
       "      <td>94.000000</td>\n",
       "      <td>93.000000</td>\n",
       "    </tr>\n",
       "    <tr>\n",
       "      <th>max</th>\n",
       "      <td>104.000000</td>\n",
       "      <td>100.000000</td>\n",
       "      <td>93.000000</td>\n",
       "      <td>96.000000</td>\n",
       "      <td>97.000000</td>\n",
       "    </tr>\n",
       "  </tbody>\n",
       "</table>\n",
       "</div>"
      ],
      "text/plain": [
       "       student_id       exam1       exam2       exam3  final_grade\n",
       "count  104.000000  103.000000  104.000000  103.000000   104.000000\n",
       "mean    52.500000   78.398058   77.307692   84.242718    81.692308\n",
       "std     30.166206   14.339948   10.295703    8.709321    10.918122\n",
       "min      1.000000   57.000000   65.000000   70.000000    65.000000\n",
       "25%     26.750000   70.000000   70.000000   78.000000    72.000000\n",
       "50%     52.500000   79.000000   75.000000   85.000000    81.000000\n",
       "75%     78.250000   92.000000   89.000000   94.000000    93.000000\n",
       "max    104.000000  100.000000   93.000000   96.000000    97.000000"
      ]
     },
     "execution_count": 9,
     "metadata": {},
     "output_type": "execute_result"
    }
   ],
   "source": [
    "df.describe()"
   ]
  },
  {
   "cell_type": "code",
   "execution_count": 8,
   "id": "494d0746",
   "metadata": {},
   "outputs": [
    {
     "name": "stdout",
     "output_type": "stream",
     "text": [
      "<class 'pandas.core.frame.DataFrame'>\n",
      "RangeIndex: 104 entries, 0 to 103\n",
      "Data columns (total 5 columns):\n",
      " #   Column       Non-Null Count  Dtype  \n",
      "---  ------       --------------  -----  \n",
      " 0   student_id   104 non-null    int64  \n",
      " 1   exam1        103 non-null    float64\n",
      " 2   exam2        104 non-null    int64  \n",
      " 3   exam3        103 non-null    float64\n",
      " 4   final_grade  104 non-null    int64  \n",
      "dtypes: float64(2), int64(3)\n",
      "memory usage: 4.2 KB\n"
     ]
    }
   ],
   "source": [
    "df.info()"
   ]
  },
  {
   "cell_type": "code",
   "execution_count": 10,
   "id": "04733727",
   "metadata": {},
   "outputs": [
    {
     "data": {
      "text/plain": [
       "(104, 5)"
      ]
     },
     "execution_count": 10,
     "metadata": {},
     "output_type": "execute_result"
    }
   ],
   "source": [
    "df.shape"
   ]
  },
  {
   "cell_type": "markdown",
   "id": "b02a6d84",
   "metadata": {},
   "source": [
    "- student_id might be able to be set as the index\n",
    "- notice that we are missing a few exam scores in exam1 and exam3.\n",
    "- 2 of the exam scores are floats but the third exam and final_grade are ints, do they need to be floats?"
   ]
  },
  {
   "cell_type": "markdown",
   "id": "487ded6d",
   "metadata": {},
   "source": [
    "# what do we want to know abou this data?"
   ]
  },
  {
   "cell_type": "markdown",
   "id": "baa5c9b3",
   "metadata": {},
   "source": [
    "### what may we want to predict?"
   ]
  },
  {
   "cell_type": "markdown",
   "id": "b77e6d46",
   "metadata": {},
   "source": [
    "Can we predict what the final grade of a given student will be based on previous exam scores?"
   ]
  },
  {
   "cell_type": "code",
   "execution_count": 11,
   "id": "94a7338a",
   "metadata": {},
   "outputs": [],
   "source": [
    "# first off lets drop that student_id column since it is a duplication of the index + 1\n",
    "df = df.drop(columns='student_id')"
   ]
  },
  {
   "cell_type": "code",
   "execution_count": 12,
   "id": "fe322867",
   "metadata": {},
   "outputs": [],
   "source": [
    "# change the index to index + 1 to match the student_id\n",
    "df.index = [i + 1 for i in df.index.to_list()]"
   ]
  },
  {
   "cell_type": "code",
   "execution_count": 13,
   "id": "0278296e",
   "metadata": {},
   "outputs": [
    {
     "data": {
      "text/html": [
       "<div>\n",
       "<style scoped>\n",
       "    .dataframe tbody tr th:only-of-type {\n",
       "        vertical-align: middle;\n",
       "    }\n",
       "\n",
       "    .dataframe tbody tr th {\n",
       "        vertical-align: top;\n",
       "    }\n",
       "\n",
       "    .dataframe thead th {\n",
       "        text-align: right;\n",
       "    }\n",
       "</style>\n",
       "<table border=\"1\" class=\"dataframe\">\n",
       "  <thead>\n",
       "    <tr style=\"text-align: right;\">\n",
       "      <th></th>\n",
       "      <th>exam1</th>\n",
       "      <th>exam2</th>\n",
       "      <th>exam3</th>\n",
       "      <th>final_grade</th>\n",
       "    </tr>\n",
       "  </thead>\n",
       "  <tbody>\n",
       "    <tr>\n",
       "      <th>1</th>\n",
       "      <td>100.0</td>\n",
       "      <td>90</td>\n",
       "      <td>95.0</td>\n",
       "      <td>96</td>\n",
       "    </tr>\n",
       "    <tr>\n",
       "      <th>2</th>\n",
       "      <td>98.0</td>\n",
       "      <td>93</td>\n",
       "      <td>96.0</td>\n",
       "      <td>95</td>\n",
       "    </tr>\n",
       "    <tr>\n",
       "      <th>3</th>\n",
       "      <td>85.0</td>\n",
       "      <td>83</td>\n",
       "      <td>87.0</td>\n",
       "      <td>87</td>\n",
       "    </tr>\n",
       "    <tr>\n",
       "      <th>4</th>\n",
       "      <td>83.0</td>\n",
       "      <td>80</td>\n",
       "      <td>86.0</td>\n",
       "      <td>85</td>\n",
       "    </tr>\n",
       "    <tr>\n",
       "      <th>5</th>\n",
       "      <td>93.0</td>\n",
       "      <td>90</td>\n",
       "      <td>96.0</td>\n",
       "      <td>97</td>\n",
       "    </tr>\n",
       "  </tbody>\n",
       "</table>\n",
       "</div>"
      ],
      "text/plain": [
       "   exam1  exam2  exam3  final_grade\n",
       "1  100.0     90   95.0           96\n",
       "2   98.0     93   96.0           95\n",
       "3   85.0     83   87.0           87\n",
       "4   83.0     80   86.0           85\n",
       "5   93.0     90   96.0           97"
      ]
     },
     "execution_count": 13,
     "metadata": {},
     "output_type": "execute_result"
    }
   ],
   "source": [
    "df.head()"
   ]
  },
  {
   "cell_type": "code",
   "execution_count": 14,
   "id": "8bc695e4",
   "metadata": {},
   "outputs": [
    {
     "data": {
      "text/plain": [
       "exam1          1\n",
       "exam2          0\n",
       "exam3          1\n",
       "final_grade    0\n",
       "dtype: int64"
      ]
     },
     "execution_count": 14,
     "metadata": {},
     "output_type": "execute_result"
    }
   ],
   "source": [
    "# get a count of all the null values\n",
    "df.isna().sum()"
   ]
  },
  {
   "cell_type": "code",
   "execution_count": 17,
   "id": "fd2a277d",
   "metadata": {},
   "outputs": [
    {
     "data": {
      "text/html": [
       "<div>\n",
       "<style scoped>\n",
       "    .dataframe tbody tr th:only-of-type {\n",
       "        vertical-align: middle;\n",
       "    }\n",
       "\n",
       "    .dataframe tbody tr th {\n",
       "        vertical-align: top;\n",
       "    }\n",
       "\n",
       "    .dataframe thead th {\n",
       "        text-align: right;\n",
       "    }\n",
       "</style>\n",
       "<table border=\"1\" class=\"dataframe\">\n",
       "  <thead>\n",
       "    <tr style=\"text-align: right;\">\n",
       "      <th></th>\n",
       "      <th>exam1</th>\n",
       "      <th>exam2</th>\n",
       "      <th>exam3</th>\n",
       "      <th>final_grade</th>\n",
       "    </tr>\n",
       "  </thead>\n",
       "  <tbody>\n",
       "    <tr>\n",
       "      <th>94</th>\n",
       "      <td>NaN</td>\n",
       "      <td>83</td>\n",
       "      <td>87.0</td>\n",
       "      <td>87</td>\n",
       "    </tr>\n",
       "  </tbody>\n",
       "</table>\n",
       "</div>"
      ],
      "text/plain": [
       "    exam1  exam2  exam3  final_grade\n",
       "94    NaN     83   87.0           87"
      ]
     },
     "execution_count": 17,
     "metadata": {},
     "output_type": "execute_result"
    }
   ],
   "source": [
    "# look at the null in exam1\n",
    "df[df['exam1'].isna()]"
   ]
  },
  {
   "cell_type": "code",
   "execution_count": 18,
   "id": "bffa37f1",
   "metadata": {},
   "outputs": [
    {
     "data": {
      "text/html": [
       "<div>\n",
       "<style scoped>\n",
       "    .dataframe tbody tr th:only-of-type {\n",
       "        vertical-align: middle;\n",
       "    }\n",
       "\n",
       "    .dataframe tbody tr th {\n",
       "        vertical-align: top;\n",
       "    }\n",
       "\n",
       "    .dataframe thead th {\n",
       "        text-align: right;\n",
       "    }\n",
       "</style>\n",
       "<table border=\"1\" class=\"dataframe\">\n",
       "  <thead>\n",
       "    <tr style=\"text-align: right;\">\n",
       "      <th></th>\n",
       "      <th>exam1</th>\n",
       "      <th>exam2</th>\n",
       "      <th>exam3</th>\n",
       "      <th>final_grade</th>\n",
       "    </tr>\n",
       "  </thead>\n",
       "  <tbody>\n",
       "    <tr>\n",
       "      <th>86</th>\n",
       "      <td>73.0</td>\n",
       "      <td>70</td>\n",
       "      <td>NaN</td>\n",
       "      <td>76</td>\n",
       "    </tr>\n",
       "  </tbody>\n",
       "</table>\n",
       "</div>"
      ],
      "text/plain": [
       "    exam1  exam2  exam3  final_grade\n",
       "86   73.0     70    NaN           76"
      ]
     },
     "execution_count": 18,
     "metadata": {},
     "output_type": "execute_result"
    }
   ],
   "source": [
    "# look at the null in exam3\n",
    "df[df['exam3'].isna()]"
   ]
  },
  {
   "cell_type": "code",
   "execution_count": 19,
   "id": "c1e01418",
   "metadata": {},
   "outputs": [],
   "source": [
    "# let's not assume the students got a grade for these exams, \n",
    "# and it won't make much difference to our dataset if we drop them,\n",
    "# so lets drop the null rows\n",
    "df = df.dropna()"
   ]
  },
  {
   "cell_type": "code",
   "execution_count": 20,
   "id": "2bb046de",
   "metadata": {},
   "outputs": [
    {
     "data": {
      "text/plain": [
       "(102, 4)"
      ]
     },
     "execution_count": 20,
     "metadata": {},
     "output_type": "execute_result"
    }
   ],
   "source": [
    "df.shape"
   ]
  },
  {
   "cell_type": "code",
   "execution_count": 23,
   "id": "f0c53e62",
   "metadata": {},
   "outputs": [
    {
     "data": {
      "text/plain": [
       "1.0"
      ]
     },
     "execution_count": 23,
     "metadata": {},
     "output_type": "execute_result"
    }
   ],
   "source": [
    "# lets see if exam1 and exam3 need to be float type\n",
    "(df['exam1'].astype(int) == df['exam1']).mean()"
   ]
  },
  {
   "cell_type": "code",
   "execution_count": 24,
   "id": "2270f3e9",
   "metadata": {},
   "outputs": [
    {
     "data": {
      "text/plain": [
       "1.0"
      ]
     },
     "execution_count": 24,
     "metadata": {},
     "output_type": "execute_result"
    }
   ],
   "source": [
    "(df['exam3'].astype(int) == df['exam3']).mean()"
   ]
  },
  {
   "cell_type": "markdown",
   "id": "6a9a4ca5",
   "metadata": {},
   "source": [
    "since the mean of both of these checks is 1, that means that every row float value is equal to the int version of that row, if there were any different, then there would be a row with a False value, and the mean value of the check would not equal 1."
   ]
  },
  {
   "cell_type": "code",
   "execution_count": 25,
   "id": "d6ece00a",
   "metadata": {},
   "outputs": [],
   "source": [
    "# change the dtype of exam1 and exam3 to int\n",
    "df.exam1 = df.exam1.astype(int)\n",
    "df.exam3 = df.exam3.astype(int)"
   ]
  },
  {
   "cell_type": "code",
   "execution_count": 26,
   "id": "96354901",
   "metadata": {},
   "outputs": [
    {
     "name": "stdout",
     "output_type": "stream",
     "text": [
      "<class 'pandas.core.frame.DataFrame'>\n",
      "Int64Index: 102 entries, 1 to 104\n",
      "Data columns (total 4 columns):\n",
      " #   Column       Non-Null Count  Dtype\n",
      "---  ------       --------------  -----\n",
      " 0   exam1        102 non-null    int64\n",
      " 1   exam2        102 non-null    int64\n",
      " 2   exam3        102 non-null    int64\n",
      " 3   final_grade  102 non-null    int64\n",
      "dtypes: int64(4)\n",
      "memory usage: 4.0 KB\n"
     ]
    }
   ],
   "source": [
    "df.info()"
   ]
  },
  {
   "cell_type": "code",
   "execution_count": 27,
   "id": "57da969a",
   "metadata": {},
   "outputs": [],
   "source": [
    "def clean_student_grades(df):\n",
    "    '''\n",
    "    This function will take in a dataframe of student_grades, it will set the index to \n",
    "    the student_id, it will remove rows with null values, and change the datatype of\n",
    "    float columns into integer dtype.\n",
    "    \n",
    "    agruements; df, a pandas DataFrame\n",
    "    returns; df, a cleaned DataFrame\n",
    "    '''\n",
    "    # drop the student_ids column since it is redundant\n",
    "    df = df.drop(columns='student_id')\n",
    "    # change the index to the student_id values\n",
    "#     df.index = [i + 1 for i in df.index.to_list()]\n",
    "    # drop rows with nulls\n",
    "    df = df.dropna()\n",
    "    # change the datatype of all rows to int\n",
    "    df.astype(int)\n",
    "    # return cleaned dataFrame\n",
    "    return df"
   ]
  },
  {
   "cell_type": "code",
   "execution_count": 28,
   "id": "a72a9073",
   "metadata": {},
   "outputs": [],
   "source": [
    "from sklearn.model_selection import train_test_split"
   ]
  },
  {
   "cell_type": "code",
   "execution_count": 38,
   "id": "84f66178",
   "metadata": {},
   "outputs": [],
   "source": [
    "def split_my_students(df):\n",
    "    '''\n",
    "    this function will take in a cleaned dataframe of student grades and will split\n",
    "    into train, validate, test dataframes for ml modeling.\n",
    "    \n",
    "    arguments: df, a cleaned pandas DataFrame\n",
    "    returns: clean, validate, test; three dataframes\n",
    "    '''\n",
    "    # we will not use a stratify because using stratify would consider each value\n",
    "    # in the target column as different classifications\n",
    "    train_val, test = train_test_split(df,\n",
    "                                      random_state=1349,\n",
    "                                      train_size=0.8)\n",
    "    train, validate = train_test_split(train_val,\n",
    "                                      random_state=1349,\n",
    "                                      train_size=0.7)\n",
    "    return train, validate, test"
   ]
  },
  {
   "cell_type": "code",
   "execution_count": null,
   "id": "e1e30b81",
   "metadata": {},
   "outputs": [],
   "source": [
    "# def wrangle_grades():\n",
    "#     df = clean_student_grades(acquire_student_grades())\n",
    "#     train, validate, test = split_my_students(df)\n",
    "#     return train, validate, test"
   ]
  },
  {
   "cell_type": "code",
   "execution_count": 39,
   "id": "8c53bc82",
   "metadata": {},
   "outputs": [],
   "source": [
    "def wrangle_grades():\n",
    "    '''\n",
    "    this function will acquire, clean and split the student grades\n",
    "    '''\n",
    "    return split_my_students(\n",
    "        clean_student_grades(\n",
    "            acquire_student_grades() ))"
   ]
  },
  {
   "cell_type": "code",
   "execution_count": 40,
   "id": "9dcfcebe",
   "metadata": {},
   "outputs": [],
   "source": [
    "train, validate, test = wrangle_grades()"
   ]
  },
  {
   "cell_type": "code",
   "execution_count": 41,
   "id": "42c36577",
   "metadata": {},
   "outputs": [
    {
     "data": {
      "text/plain": [
       "((56, 4), (25, 4), (21, 4))"
      ]
     },
     "execution_count": 41,
     "metadata": {},
     "output_type": "execute_result"
    }
   ],
   "source": [
    "train.shape, validate.shape, test.shape"
   ]
  },
  {
   "cell_type": "code",
   "execution_count": 45,
   "id": "85d9610d",
   "metadata": {},
   "outputs": [
    {
     "data": {
      "image/png": "[encoded data removed]",
      "text/plain": [
       "<Figure size 640x480 with 1 Axes>"
      ]
     },
     "metadata": {},
     "output_type": "display_data"
    },
    {
     "data": {
      "image/png": "[encoded data removed]",
      "text/plain": [
       "<Figure size 640x480 with 1 Axes>"
      ]
     },
     "metadata": {},
     "output_type": "display_data"
    },
    {
     "data": {
      "image/png": "[encoded data removed]",
      "text/plain": [
       "<Figure size 640x480 with 1 Axes>"
      ]
     },
     "metadata": {},
     "output_type": "display_data"
    },
    {
     "data": {
      "image/png": "[encoded data removed]",
      "text/plain": [
       "<Figure size 640x480 with 1 Axes>"
      ]
     },
     "metadata": {},
     "output_type": "display_data"
    }
   ],
   "source": [
    "# lets check out how normal these things are\n",
    "for col in train:\n",
    "    train[col].hist()\n",
    "    plt.title(f'distribution of {col}')\n",
    "    plt.show()"
   ]
  },
  {
   "cell_type": "markdown",
   "id": "04a3331a",
   "metadata": {},
   "source": [
    "this data isn't very normal\n",
    "\n",
    "- is this becuase the sample size is somewhat smaller\n",
    "- is this beacuse there are different types of stude3nts\n",
    "- if there are different types, how would we recognise them\n",
    "- will this effect my modeling?"
   ]
  },
  {
   "cell_type": "code",
   "execution_count": 55,
   "id": "2aefb08c",
   "metadata": {},
   "outputs": [
    {
     "data": {
      "image/png": "[encoded data removed]",
      "text/plain": [
       "<Figure size 640x480 with 1 Axes>"
      ]
     },
     "metadata": {},
     "output_type": "display_data"
    },
    {
     "data": {
      "image/png": "[encoded data removed]",
      "text/plain": [
       "<Figure size 640x480 with 1 Axes>"
      ]
     },
     "metadata": {},
     "output_type": "display_data"
    },
    {
     "data": {
      "image/png": "[encoded data removed]",
      "text/plain": [
       "<Figure size 640x480 with 1 Axes>"
      ]
     },
     "metadata": {},
     "output_type": "display_data"
    },
    {
     "data": {
      "image/png": "[encoded data removed]",
      "text/plain": [
       "<Figure size 640x480 with 1 Axes>"
      ]
     },
     "metadata": {},
     "output_type": "display_data"
    }
   ],
   "source": [
    "for col in train:\n",
    "    sns.boxplot(data=train, x=col)\n",
    "    plt.title(f'distribution of {col}')\n",
    "    plt.show()"
   ]
  }
 ],
 "metadata": {
  "kernelspec": {
   "display_name": "Python 3 (ipykernel)",
   "language": "python",
   "name": "python3"
  },
  "language_info": {
   "codemirror_mode": {
    "name": "ipython",
    "version": 3
   },
   "file_extension": ".py",
   "mimetype": "text/x-python",
   "name": "python",
   "nbconvert_exporter": "python",
   "pygments_lexer": "ipython3",
   "version": "3.9.13"
  }
 },
 "nbformat": 4,
 "nbformat_minor": 5
}
