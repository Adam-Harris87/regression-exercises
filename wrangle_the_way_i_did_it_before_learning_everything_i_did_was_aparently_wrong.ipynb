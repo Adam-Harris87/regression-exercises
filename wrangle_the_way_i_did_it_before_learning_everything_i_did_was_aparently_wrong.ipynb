{
 "cells": [
  {
   "cell_type": "code",
   "execution_count": 1,
   "id": "6282a8b5",
   "metadata": {},
   "outputs": [],
   "source": [
    "import numpy as np\n",
    "import pandas as pd\n",
    "import os\n",
    "from sklearn.model_selection import train_test_split\n",
    "import env\n",
    "import matplotlib.pyplot as plt\n",
    "import seaborn as sns"
   ]
  },
  {
   "cell_type": "code",
   "execution_count": 2,
   "id": "1d9410a4",
   "metadata": {},
   "outputs": [],
   "source": [
    "def acquire_zillow_sfr():\n",
    "    '''\n",
    "    This function will retrieve zillow home data for 2017 properties. It will only get\n",
    "    single family residential properties. the function will attempt to open the data from \n",
    "    a local csv file, if one is not found, it will download the data from the codeup\n",
    "    database. An env file is needed in the local directory in order to run this file.\n",
    "    '''\n",
    "    if os.path.exists('zillow_2017_sfr.csv'):\n",
    "        print('opening data from local file')\n",
    "        df = pd.read_csv('zillow_2017_sfr.csv', index_col=0)\n",
    "    else:\n",
    "        # run sql query and write to csv\n",
    "        print('local file not found')\n",
    "        print('retrieving data from sql server')\n",
    "        query = '''\n",
    "    SELECT \n",
    "    bedroomcnt, bathroomcnt, calculatedfinishedsquarefeet, \n",
    "    taxvaluedollarcnt, yearbuilt, taxamount, fips\n",
    "    FROM properties_2017\n",
    "    WHERE propertylandusetypeid IN(\n",
    "        SELECT propertylandusetypeid\n",
    "        FROM propertylandusetype\n",
    "        WHERE propertylandusedesc = \"Single Family Residential\")\n",
    "    -- LIMIT 1000\n",
    "    ;\n",
    "        '''\n",
    "        connection = env.get_db_url('zillow')\n",
    "        df = pd.read_sql(query, connection)\n",
    "        df.to_csv('zillow_2017_sfr.csv')\n",
    "\n",
    "    return df"
   ]
  },
  {
   "cell_type": "code",
   "execution_count": 3,
   "id": "4e4dd6a0",
   "metadata": {},
   "outputs": [
    {
     "name": "stdout",
     "output_type": "stream",
     "text": [
      "opening data from local file\n"
     ]
    },
    {
     "data": {
      "text/html": [
       "<div>\n",
       "<style scoped>\n",
       "    .dataframe tbody tr th:only-of-type {\n",
       "        vertical-align: middle;\n",
       "    }\n",
       "\n",
       "    .dataframe tbody tr th {\n",
       "        vertical-align: top;\n",
       "    }\n",
       "\n",
       "    .dataframe thead th {\n",
       "        text-align: right;\n",
       "    }\n",
       "</style>\n",
       "<table border=\"1\" class=\"dataframe\">\n",
       "  <thead>\n",
       "    <tr style=\"text-align: right;\">\n",
       "      <th></th>\n",
       "      <th>bedroomcnt</th>\n",
       "      <th>bathroomcnt</th>\n",
       "      <th>calculatedfinishedsquarefeet</th>\n",
       "      <th>taxvaluedollarcnt</th>\n",
       "      <th>yearbuilt</th>\n",
       "      <th>taxamount</th>\n",
       "      <th>fips</th>\n",
       "    </tr>\n",
       "  </thead>\n",
       "  <tbody>\n",
       "    <tr>\n",
       "      <th>0</th>\n",
       "      <td>0.0</td>\n",
       "      <td>0.0</td>\n",
       "      <td>NaN</td>\n",
       "      <td>27516.0</td>\n",
       "      <td>NaN</td>\n",
       "      <td>NaN</td>\n",
       "      <td>6037.0</td>\n",
       "    </tr>\n",
       "    <tr>\n",
       "      <th>1</th>\n",
       "      <td>0.0</td>\n",
       "      <td>0.0</td>\n",
       "      <td>NaN</td>\n",
       "      <td>10.0</td>\n",
       "      <td>NaN</td>\n",
       "      <td>NaN</td>\n",
       "      <td>6037.0</td>\n",
       "    </tr>\n",
       "    <tr>\n",
       "      <th>2</th>\n",
       "      <td>0.0</td>\n",
       "      <td>0.0</td>\n",
       "      <td>NaN</td>\n",
       "      <td>10.0</td>\n",
       "      <td>NaN</td>\n",
       "      <td>NaN</td>\n",
       "      <td>6037.0</td>\n",
       "    </tr>\n",
       "    <tr>\n",
       "      <th>3</th>\n",
       "      <td>0.0</td>\n",
       "      <td>0.0</td>\n",
       "      <td>NaN</td>\n",
       "      <td>2108.0</td>\n",
       "      <td>NaN</td>\n",
       "      <td>174.21</td>\n",
       "      <td>6037.0</td>\n",
       "    </tr>\n",
       "    <tr>\n",
       "      <th>4</th>\n",
       "      <td>4.0</td>\n",
       "      <td>2.0</td>\n",
       "      <td>3633.0</td>\n",
       "      <td>296425.0</td>\n",
       "      <td>2005.0</td>\n",
       "      <td>6941.39</td>\n",
       "      <td>6037.0</td>\n",
       "    </tr>\n",
       "    <tr>\n",
       "      <th>...</th>\n",
       "      <td>...</td>\n",
       "      <td>...</td>\n",
       "      <td>...</td>\n",
       "      <td>...</td>\n",
       "      <td>...</td>\n",
       "      <td>...</td>\n",
       "      <td>...</td>\n",
       "    </tr>\n",
       "    <tr>\n",
       "      <th>2152858</th>\n",
       "      <td>4.0</td>\n",
       "      <td>3.0</td>\n",
       "      <td>2262.0</td>\n",
       "      <td>960756.0</td>\n",
       "      <td>2015.0</td>\n",
       "      <td>13494.52</td>\n",
       "      <td>6059.0</td>\n",
       "    </tr>\n",
       "    <tr>\n",
       "      <th>2152859</th>\n",
       "      <td>4.0</td>\n",
       "      <td>4.5</td>\n",
       "      <td>3127.0</td>\n",
       "      <td>536061.0</td>\n",
       "      <td>2014.0</td>\n",
       "      <td>6244.16</td>\n",
       "      <td>6059.0</td>\n",
       "    </tr>\n",
       "    <tr>\n",
       "      <th>2152860</th>\n",
       "      <td>0.0</td>\n",
       "      <td>0.0</td>\n",
       "      <td>NaN</td>\n",
       "      <td>208057.0</td>\n",
       "      <td>NaN</td>\n",
       "      <td>5783.88</td>\n",
       "      <td>6059.0</td>\n",
       "    </tr>\n",
       "    <tr>\n",
       "      <th>2152861</th>\n",
       "      <td>3.0</td>\n",
       "      <td>2.5</td>\n",
       "      <td>1974.0</td>\n",
       "      <td>424353.0</td>\n",
       "      <td>2015.0</td>\n",
       "      <td>5302.70</td>\n",
       "      <td>6059.0</td>\n",
       "    </tr>\n",
       "    <tr>\n",
       "      <th>2152862</th>\n",
       "      <td>4.0</td>\n",
       "      <td>4.0</td>\n",
       "      <td>2110.0</td>\n",
       "      <td>554009.0</td>\n",
       "      <td>2014.0</td>\n",
       "      <td>6761.20</td>\n",
       "      <td>6037.0</td>\n",
       "    </tr>\n",
       "  </tbody>\n",
       "</table>\n",
       "<p>2152863 rows × 7 columns</p>\n",
       "</div>"
      ],
      "text/plain": [
       "         bedroomcnt  bathroomcnt  calculatedfinishedsquarefeet  \\\n",
       "0               0.0          0.0                           NaN   \n",
       "1               0.0          0.0                           NaN   \n",
       "2               0.0          0.0                           NaN   \n",
       "3               0.0          0.0                           NaN   \n",
       "4               4.0          2.0                        3633.0   \n",
       "...             ...          ...                           ...   \n",
       "2152858         4.0          3.0                        2262.0   \n",
       "2152859         4.0          4.5                        3127.0   \n",
       "2152860         0.0          0.0                           NaN   \n",
       "2152861         3.0          2.5                        1974.0   \n",
       "2152862         4.0          4.0                        2110.0   \n",
       "\n",
       "         taxvaluedollarcnt  yearbuilt  taxamount    fips  \n",
       "0                  27516.0        NaN        NaN  6037.0  \n",
       "1                     10.0        NaN        NaN  6037.0  \n",
       "2                     10.0        NaN        NaN  6037.0  \n",
       "3                   2108.0        NaN     174.21  6037.0  \n",
       "4                 296425.0     2005.0    6941.39  6037.0  \n",
       "...                    ...        ...        ...     ...  \n",
       "2152858           960756.0     2015.0   13494.52  6059.0  \n",
       "2152859           536061.0     2014.0    6244.16  6059.0  \n",
       "2152860           208057.0        NaN    5783.88  6059.0  \n",
       "2152861           424353.0     2015.0    5302.70  6059.0  \n",
       "2152862           554009.0     2014.0    6761.20  6037.0  \n",
       "\n",
       "[2152863 rows x 7 columns]"
      ]
     },
     "execution_count": 3,
     "metadata": {},
     "output_type": "execute_result"
    }
   ],
   "source": [
    "df = acquire_zillow_sfr()\n",
    "df"
   ]
  },
  {
   "cell_type": "code",
   "execution_count": null,
   "id": "15f5b8ab",
   "metadata": {},
   "outputs": [],
   "source": [
    "df.info()"
   ]
  },
  {
   "cell_type": "code",
   "execution_count": null,
   "id": "efb7164a",
   "metadata": {},
   "outputs": [],
   "source": [
    "df.shape"
   ]
  },
  {
   "cell_type": "code",
   "execution_count": null,
   "id": "b6f69e4d",
   "metadata": {},
   "outputs": [],
   "source": [
    "df.fips.value_counts()"
   ]
  },
  {
   "cell_type": "code",
   "execution_count": null,
   "id": "4985aa29",
   "metadata": {},
   "outputs": [],
   "source": [
    "df.isna().sum()"
   ]
  },
  {
   "cell_type": "code",
   "execution_count": null,
   "id": "e0e1de15",
   "metadata": {},
   "outputs": [],
   "source": [
    "9337 / 2152863"
   ]
  },
  {
   "cell_type": "code",
   "execution_count": null,
   "id": "5b72348f",
   "metadata": {},
   "outputs": [],
   "source": [
    "df[(df.yearbuilt.isna() == True) & (df.calculatedfinishedsquarefeet.isna() == False)\n",
    "  & (df.taxamount.isna() == False)]"
   ]
  },
  {
   "cell_type": "markdown",
   "id": "82385d7c",
   "metadata": {},
   "source": [
    "There are properties that don't have a year built, but they have a calculated square feet and tax amount for the property. Could these be properties being built?"
   ]
  },
  {
   "cell_type": "markdown",
   "id": "d121c633",
   "metadata": {},
   "source": [
    "notice that all of the rows with a null calculated square feet value has 0 bedrooms, 0 bathrooms and null year built value, which to me indicates that there is no house built on the plot yet. So lets drop the null values."
   ]
  },
  {
   "cell_type": "code",
   "execution_count": null,
   "id": "9efd6398",
   "metadata": {},
   "outputs": [],
   "source": []
  },
  {
   "cell_type": "code",
   "execution_count": null,
   "id": "d194c403",
   "metadata": {},
   "outputs": [],
   "source": [
    "df.yearbuilt.dropna()"
   ]
  },
  {
   "cell_type": "code",
   "execution_count": null,
   "id": "afce0aaa",
   "metadata": {},
   "outputs": [],
   "source": [
    "2143526 / 2152863"
   ]
  },
  {
   "cell_type": "code",
   "execution_count": null,
   "id": "de6ea3b6",
   "metadata": {},
   "outputs": [],
   "source": [
    "df.yearbuilt.value_counts().sort_index().dropna()"
   ]
  },
  {
   "cell_type": "code",
   "execution_count": 11,
   "id": "3aa20f4f",
   "metadata": {},
   "outputs": [],
   "source": [
    "df = df.dropna()"
   ]
  },
  {
   "cell_type": "code",
   "execution_count": null,
   "id": "f5d30b78",
   "metadata": {},
   "outputs": [],
   "source": [
    "for col in df.columns:\n",
    "    print(df[col].value_counts().sort_index())"
   ]
  },
  {
   "cell_type": "markdown",
   "id": "a7a4ada7",
   "metadata": {},
   "source": [
    "we still have houses with 0 bathrooms or 0 bedrooms? places with less than 10 square feet? are they shacks? since this is a small portion of our data, lets drop them also"
   ]
  },
  {
   "cell_type": "code",
   "execution_count": null,
   "id": "df168fdb",
   "metadata": {},
   "outputs": [],
   "source": [
    "df.info()"
   ]
  },
  {
   "cell_type": "markdown",
   "id": "edf07704",
   "metadata": {},
   "source": [
    "all of the dtypes are float, do they need to be?"
   ]
  },
  {
   "cell_type": "code",
   "execution_count": null,
   "id": "df10762b",
   "metadata": {},
   "outputs": [],
   "source": [
    "for col in df:\n",
    "    print(f'{col}')\n",
    "    equal_int = (df[col] == df[col].astype(int)).mean()\n",
    "    print(equal_int)"
   ]
  },
  {
   "cell_type": "markdown",
   "id": "4e86aed8",
   "metadata": {},
   "source": [
    "looks like bathroomcnt and taxamount need to be float, the others can be int"
   ]
  },
  {
   "cell_type": "code",
   "execution_count": 12,
   "id": "5eb41c40",
   "metadata": {},
   "outputs": [
    {
     "name": "stderr",
     "output_type": "stream",
     "text": [
      "/var/folders/49/v6sf5vy165dghytk4qv6jfhc0000gn/T/ipykernel_1687/3418949021.py:1: SettingWithCopyWarning: \n",
      "A value is trying to be set on a copy of a slice from a DataFrame.\n",
      "Try using .loc[row_indexer,col_indexer] = value instead\n",
      "\n",
      "See the caveats in the documentation: https://pandas.pydata.org/pandas-docs/stable/user_guide/indexing.html#returning-a-view-versus-a-copy\n",
      "  df.bedroomcnt = df.bedroomcnt.astype(int)\n",
      "/var/folders/49/v6sf5vy165dghytk4qv6jfhc0000gn/T/ipykernel_1687/3418949021.py:2: SettingWithCopyWarning: \n",
      "A value is trying to be set on a copy of a slice from a DataFrame.\n",
      "Try using .loc[row_indexer,col_indexer] = value instead\n",
      "\n",
      "See the caveats in the documentation: https://pandas.pydata.org/pandas-docs/stable/user_guide/indexing.html#returning-a-view-versus-a-copy\n",
      "  df.calculatedfinishedsquarefeet = df.calculatedfinishedsquarefeet.astype(int)\n",
      "/var/folders/49/v6sf5vy165dghytk4qv6jfhc0000gn/T/ipykernel_1687/3418949021.py:3: SettingWithCopyWarning: \n",
      "A value is trying to be set on a copy of a slice from a DataFrame.\n",
      "Try using .loc[row_indexer,col_indexer] = value instead\n",
      "\n",
      "See the caveats in the documentation: https://pandas.pydata.org/pandas-docs/stable/user_guide/indexing.html#returning-a-view-versus-a-copy\n",
      "  df.yearbuilt = df.yearbuilt.astype(int)\n",
      "/var/folders/49/v6sf5vy165dghytk4qv6jfhc0000gn/T/ipykernel_1687/3418949021.py:4: SettingWithCopyWarning: \n",
      "A value is trying to be set on a copy of a slice from a DataFrame.\n",
      "Try using .loc[row_indexer,col_indexer] = value instead\n",
      "\n",
      "See the caveats in the documentation: https://pandas.pydata.org/pandas-docs/stable/user_guide/indexing.html#returning-a-view-versus-a-copy\n",
      "  df.taxvaluedollarcnt = df.taxvaluedollarcnt.astype(int)\n",
      "/var/folders/49/v6sf5vy165dghytk4qv6jfhc0000gn/T/ipykernel_1687/3418949021.py:5: SettingWithCopyWarning: \n",
      "A value is trying to be set on a copy of a slice from a DataFrame.\n",
      "Try using .loc[row_indexer,col_indexer] = value instead\n",
      "\n",
      "See the caveats in the documentation: https://pandas.pydata.org/pandas-docs/stable/user_guide/indexing.html#returning-a-view-versus-a-copy\n",
      "  df.fips = df.fips.astype(int)\n"
     ]
    }
   ],
   "source": [
    "df.bedroomcnt = df.bedroomcnt.astype(int)\n",
    "df.calculatedfinishedsquarefeet = df.calculatedfinishedsquarefeet.astype(int)\n",
    "df.yearbuilt = df.yearbuilt.astype(int)\n",
    "df.taxvaluedollarcnt = df.taxvaluedollarcnt.astype(int)\n",
    "df.fips = df.fips.astype(int)"
   ]
  },
  {
   "cell_type": "code",
   "execution_count": 13,
   "id": "ae033ec6",
   "metadata": {},
   "outputs": [
    {
     "name": "stdout",
     "output_type": "stream",
     "text": [
      "<class 'pandas.core.frame.DataFrame'>\n",
      "Int64Index: 2140235 entries, 4 to 2152862\n",
      "Data columns (total 7 columns):\n",
      " #   Column                        Dtype  \n",
      "---  ------                        -----  \n",
      " 0   bedroomcnt                    int64  \n",
      " 1   bathroomcnt                   float64\n",
      " 2   calculatedfinishedsquarefeet  int64  \n",
      " 3   taxvaluedollarcnt             int64  \n",
      " 4   yearbuilt                     int64  \n",
      " 5   taxamount                     float64\n",
      " 6   fips                          int64  \n",
      "dtypes: float64(2), int64(5)\n",
      "memory usage: 130.6 MB\n"
     ]
    }
   ],
   "source": [
    "df.info()"
   ]
  },
  {
   "cell_type": "code",
   "execution_count": null,
   "id": "f2b04b4a",
   "metadata": {},
   "outputs": [],
   "source": [
    "mask = ((df.bathroomcnt == 0) | (df.bedroomcnt == 0))\n",
    "df[mask]"
   ]
  },
  {
   "cell_type": "code",
   "execution_count": null,
   "id": "6beb782d",
   "metadata": {},
   "outputs": [],
   "source": [
    "mask = (df.bathroomcnt == 0) | (df.bedroomcnt == 0)\n",
    "\n",
    "# df = df[~mask]\n",
    "\n",
    "df"
   ]
  },
  {
   "cell_type": "code",
   "execution_count": null,
   "id": "49d4c117",
   "metadata": {},
   "outputs": [],
   "source": [
    "df[df.calculatedfinishedsquarefeet <= 100]"
   ]
  },
  {
   "cell_type": "code",
   "execution_count": null,
   "id": "e6bb77b1",
   "metadata": {},
   "outputs": [],
   "source": [
    "for col in df.columns:\n",
    "    print(df[col].value_counts())"
   ]
  },
  {
   "cell_type": "code",
   "execution_count": null,
   "id": "f25e88f9",
   "metadata": {},
   "outputs": [],
   "source": [
    "df.describe()"
   ]
  },
  {
   "cell_type": "code",
   "execution_count": null,
   "id": "01db43ca",
   "metadata": {},
   "outputs": [],
   "source": [
    "for col in df:\n",
    "    print(f'distribution of {col}')\n",
    "    plt.hist(data=df, x=col)\n",
    "    plt.show()"
   ]
  },
  {
   "cell_type": "code",
   "execution_count": null,
   "id": "c6c87026",
   "metadata": {},
   "outputs": [],
   "source": [
    "for col in df:\n",
    "    print(f'distribution of {col}')\n",
    "    sns.boxplot(data=df, x=col)\n",
    "    plt.show()"
   ]
  },
  {
   "cell_type": "code",
   "execution_count": null,
   "id": "f46d6e10",
   "metadata": {},
   "outputs": [],
   "source": [
    "df.drop(df.calculatedfinishedsquarefeet.max())"
   ]
  },
  {
   "cell_type": "code",
   "execution_count": null,
   "id": "a6d7f9ea",
   "metadata": {},
   "outputs": [],
   "source": [
    "# outliers are aything beyond 1.5 times the inner quartile range from the mean\n",
    "low_outliers = df.calculatedfinishedsquarefeet.mean() - (\n",
    "    # iqr is quantile(.75) - quantile(.25)\n",
    "    (df.calculatedfinishedsquarefeet.quantile(.75)\n",
    " - df.calculatedfinishedsquarefeet.quantile(.25))\n",
    "    # times 1.5\n",
    "* 1.5)"
   ]
  },
  {
   "cell_type": "code",
   "execution_count": null,
   "id": "c7355106",
   "metadata": {},
   "outputs": [],
   "source": [
    "df[(df.calculatedfinishedsquarefeet <= low_outliers)  ]"
   ]
  },
  {
   "cell_type": "code",
   "execution_count": null,
   "id": "dcf33c2d",
   "metadata": {
    "scrolled": true
   },
   "outputs": [],
   "source": [
    "df[(df.calculatedfinishedsquarefeet <= low_outliers)  ].calculatedfinishedsquarefeet.max()"
   ]
  },
  {
   "cell_type": "code",
   "execution_count": null,
   "id": "768cd23d",
   "metadata": {},
   "outputs": [],
   "source": [
    "2909 / 2152863"
   ]
  },
  {
   "cell_type": "markdown",
   "id": "d8cb7851",
   "metadata": {},
   "source": [
    "according to our formula of considering anything less than 1.5 times the inner quartile range below the mean to be an outlier, anything less than 436 sq feet (about 22x20 ft) is an outlier, this is 0.14% of our total dataset."
   ]
  },
  {
   "cell_type": "code",
   "execution_count": null,
   "id": "17eeee96",
   "metadata": {},
   "outputs": [],
   "source": [
    "# outliers are aything beyond 1.5 times the inner quartile range from the mean\n",
    "high_outliers = df.calculatedfinishedsquarefeet.mean() + (\n",
    "    # iqr is quantile(.75) - quantile(.25)\n",
    "    (df.calculatedfinishedsquarefeet.quantile(.75)\n",
    " - df.calculatedfinishedsquarefeet.quantile(.25))\n",
    "    # times 1.5\n",
    "* 1.5)"
   ]
  },
  {
   "cell_type": "code",
   "execution_count": null,
   "id": "d3bf153d",
   "metadata": {},
   "outputs": [],
   "source": [
    "df[~(df.calculatedfinishedsquarefeet >= high_outliers)]"
   ]
  },
  {
   "cell_type": "code",
   "execution_count": null,
   "id": "e9b882d0",
   "metadata": {},
   "outputs": [],
   "source": [
    "142114 / 2152863"
   ]
  },
  {
   "cell_type": "code",
   "execution_count": null,
   "id": "494d8e55",
   "metadata": {},
   "outputs": [],
   "source": [
    "3290 / 57"
   ]
  },
  {
   "cell_type": "code",
   "execution_count": null,
   "id": "55f91b68",
   "metadata": {
    "scrolled": true
   },
   "outputs": [],
   "source": [
    "df[(df.calculatedfinishedsquarefeet >= high_outliers)  ].calculatedfinishedsquarefeet.min()"
   ]
  },
  {
   "cell_type": "markdown",
   "id": "64cc82ab",
   "metadata": {},
   "source": [
    "according to our formula of considering anything more than 1.5 times the inner quartile range above the mean to be an outlier, anything more than 3,290 sq feet (about 57x58 ft) is an outlier, this is 6.6% of our total dataset. the calculated square feet is definitely right skewed."
   ]
  },
  {
   "cell_type": "code",
   "execution_count": null,
   "id": "a45945d7",
   "metadata": {},
   "outputs": [],
   "source": [
    "df.isna().sum()"
   ]
  },
  {
   "cell_type": "code",
   "execution_count": null,
   "id": "a8552d86",
   "metadata": {},
   "outputs": [],
   "source": [
    "mask = ((df.calculatedfinishedsquarefeet <= low_outliers) | \n",
    "          (df.calculatedfinishedsquarefeet >= high_outliers))\n",
    "df[~mask]"
   ]
  },
  {
   "cell_type": "code",
   "execution_count": 15,
   "id": "c3cbe71e",
   "metadata": {},
   "outputs": [
    {
     "name": "stdout",
     "output_type": "stream",
     "text": [
      "1.5\n",
      "0.5\n",
      "-167.0\n",
      "-328994.0\n",
      "1908.5\n",
      "-3265.770000000001\n",
      "6004.0\n"
     ]
    }
   ],
   "source": [
    "for col in df:\n",
    "        # outliers are aything beyond 1.5 times the inner quartile range from the mean\n",
    "        low_outliers = df[col].quantile(.25) - (\n",
    "            # iqr is quantile(.75) - quantile(.25)\n",
    "            (df[col].quantile(.75)\n",
    "             - df[col].quantile(.25))\n",
    "            # times 1.5\n",
    "            * 1.5)\n",
    "        print(low_outliers)"
   ]
  },
  {
   "cell_type": "code",
   "execution_count": 4,
   "id": "901888b2",
   "metadata": {},
   "outputs": [],
   "source": [
    "cols = ['bedroomcnt', 'bathroomcnt', 'calculatedfinishedsquarefeet', \n",
    "        'taxvaluedollarcnt', 'taxamount']"
   ]
  },
  {
   "cell_type": "code",
   "execution_count": 14,
   "id": "4040418b",
   "metadata": {},
   "outputs": [],
   "source": [
    "def remove_outliers(df, col_list, k=1.5):\n",
    "    for col in df[col_list]:\n",
    "        # get the quartiles\n",
    "        q1, q3 = df[col].quantile([.25, .75])\n",
    "        # iqr is quantile(.75) - quantile(.25)\n",
    "        iqr = q3 - q1\n",
    "        # low outliers are aything beyond 1.5 times the inner quartile range from .25\n",
    "        low_outliers = q1 - (k * iqr)\n",
    "        high_outliers = q3 + (k * iqr)\n",
    "        outliers_removed = df[(df[col] > low_outliers) & (df[col] < high_outliers)]\n",
    "    return outliers_removed"
   ]
  },
  {
   "cell_type": "code",
   "execution_count": 18,
   "id": "9f4b6a90",
   "metadata": {},
   "outputs": [],
   "source": [
    "outliers_removed = remove_outliers(df, cols)"
   ]
  },
  {
   "cell_type": "code",
   "execution_count": 19,
   "id": "4b494571",
   "metadata": {},
   "outputs": [],
   "source": [
    "outliers_removed = no_out.dropna()"
   ]
  },
  {
   "cell_type": "code",
   "execution_count": 20,
   "id": "73c08ca7",
   "metadata": {},
   "outputs": [
    {
     "data": {
      "text/html": [
       "<div>\n",
       "<style scoped>\n",
       "    .dataframe tbody tr th:only-of-type {\n",
       "        vertical-align: middle;\n",
       "    }\n",
       "\n",
       "    .dataframe tbody tr th {\n",
       "        vertical-align: top;\n",
       "    }\n",
       "\n",
       "    .dataframe thead th {\n",
       "        text-align: right;\n",
       "    }\n",
       "</style>\n",
       "<table border=\"1\" class=\"dataframe\">\n",
       "  <thead>\n",
       "    <tr style=\"text-align: right;\">\n",
       "      <th></th>\n",
       "      <th>bedroomcnt</th>\n",
       "      <th>bathroomcnt</th>\n",
       "      <th>calculatedfinishedsquarefeet</th>\n",
       "      <th>taxvaluedollarcnt</th>\n",
       "      <th>yearbuilt</th>\n",
       "      <th>taxamount</th>\n",
       "      <th>fips</th>\n",
       "    </tr>\n",
       "  </thead>\n",
       "  <tbody>\n",
       "    <tr>\n",
       "      <th>4</th>\n",
       "      <td>4</td>\n",
       "      <td>2.0</td>\n",
       "      <td>3633</td>\n",
       "      <td>296425</td>\n",
       "      <td>2005</td>\n",
       "      <td>6941.39</td>\n",
       "      <td>6037</td>\n",
       "    </tr>\n",
       "    <tr>\n",
       "      <th>6</th>\n",
       "      <td>3</td>\n",
       "      <td>4.0</td>\n",
       "      <td>1620</td>\n",
       "      <td>847770</td>\n",
       "      <td>2011</td>\n",
       "      <td>10244.94</td>\n",
       "      <td>6037</td>\n",
       "    </tr>\n",
       "    <tr>\n",
       "      <th>7</th>\n",
       "      <td>3</td>\n",
       "      <td>2.0</td>\n",
       "      <td>2077</td>\n",
       "      <td>646760</td>\n",
       "      <td>1926</td>\n",
       "      <td>7924.68</td>\n",
       "      <td>6037</td>\n",
       "    </tr>\n",
       "    <tr>\n",
       "      <th>11</th>\n",
       "      <td>0</td>\n",
       "      <td>0.0</td>\n",
       "      <td>1200</td>\n",
       "      <td>5328</td>\n",
       "      <td>1972</td>\n",
       "      <td>91.60</td>\n",
       "      <td>6037</td>\n",
       "    </tr>\n",
       "    <tr>\n",
       "      <th>14</th>\n",
       "      <td>0</td>\n",
       "      <td>0.0</td>\n",
       "      <td>171</td>\n",
       "      <td>6920</td>\n",
       "      <td>1973</td>\n",
       "      <td>255.17</td>\n",
       "      <td>6037</td>\n",
       "    </tr>\n",
       "    <tr>\n",
       "      <th>...</th>\n",
       "      <td>...</td>\n",
       "      <td>...</td>\n",
       "      <td>...</td>\n",
       "      <td>...</td>\n",
       "      <td>...</td>\n",
       "      <td>...</td>\n",
       "      <td>...</td>\n",
       "    </tr>\n",
       "    <tr>\n",
       "      <th>2152853</th>\n",
       "      <td>4</td>\n",
       "      <td>2.0</td>\n",
       "      <td>1987</td>\n",
       "      <td>259913</td>\n",
       "      <td>1955</td>\n",
       "      <td>3175.66</td>\n",
       "      <td>6059</td>\n",
       "    </tr>\n",
       "    <tr>\n",
       "      <th>2152855</th>\n",
       "      <td>3</td>\n",
       "      <td>2.5</td>\n",
       "      <td>1809</td>\n",
       "      <td>405547</td>\n",
       "      <td>2012</td>\n",
       "      <td>4181.10</td>\n",
       "      <td>6059</td>\n",
       "    </tr>\n",
       "    <tr>\n",
       "      <th>2152859</th>\n",
       "      <td>4</td>\n",
       "      <td>4.5</td>\n",
       "      <td>3127</td>\n",
       "      <td>536061</td>\n",
       "      <td>2014</td>\n",
       "      <td>6244.16</td>\n",
       "      <td>6059</td>\n",
       "    </tr>\n",
       "    <tr>\n",
       "      <th>2152861</th>\n",
       "      <td>3</td>\n",
       "      <td>2.5</td>\n",
       "      <td>1974</td>\n",
       "      <td>424353</td>\n",
       "      <td>2015</td>\n",
       "      <td>5302.70</td>\n",
       "      <td>6059</td>\n",
       "    </tr>\n",
       "    <tr>\n",
       "      <th>2152862</th>\n",
       "      <td>4</td>\n",
       "      <td>4.0</td>\n",
       "      <td>2110</td>\n",
       "      <td>554009</td>\n",
       "      <td>2014</td>\n",
       "      <td>6761.20</td>\n",
       "      <td>6037</td>\n",
       "    </tr>\n",
       "  </tbody>\n",
       "</table>\n",
       "<p>1994624 rows × 7 columns</p>\n",
       "</div>"
      ],
      "text/plain": [
       "         bedroomcnt  bathroomcnt  calculatedfinishedsquarefeet  \\\n",
       "4                 4          2.0                          3633   \n",
       "6                 3          4.0                          1620   \n",
       "7                 3          2.0                          2077   \n",
       "11                0          0.0                          1200   \n",
       "14                0          0.0                           171   \n",
       "...             ...          ...                           ...   \n",
       "2152853           4          2.0                          1987   \n",
       "2152855           3          2.5                          1809   \n",
       "2152859           4          4.5                          3127   \n",
       "2152861           3          2.5                          1974   \n",
       "2152862           4          4.0                          2110   \n",
       "\n",
       "         taxvaluedollarcnt  yearbuilt  taxamount  fips  \n",
       "4                   296425       2005    6941.39  6037  \n",
       "6                   847770       2011   10244.94  6037  \n",
       "7                   646760       1926    7924.68  6037  \n",
       "11                    5328       1972      91.60  6037  \n",
       "14                    6920       1973     255.17  6037  \n",
       "...                    ...        ...        ...   ...  \n",
       "2152853             259913       1955    3175.66  6059  \n",
       "2152855             405547       2012    4181.10  6059  \n",
       "2152859             536061       2014    6244.16  6059  \n",
       "2152861             424353       2015    5302.70  6059  \n",
       "2152862             554009       2014    6761.20  6037  \n",
       "\n",
       "[1994624 rows x 7 columns]"
      ]
     },
     "execution_count": 20,
     "metadata": {},
     "output_type": "execute_result"
    }
   ],
   "source": [
    "outliers_removed"
   ]
  },
  {
   "cell_type": "code",
   "execution_count": null,
   "id": "ef744d56",
   "metadata": {},
   "outputs": [],
   "source": [
    "for col in outliers_removed:\n",
    "    print(f'distribution of {col}')\n",
    "    plt.hist(data=outliers_removed, x=col)\n",
    "    plt.show()"
   ]
  },
  {
   "cell_type": "code",
   "execution_count": null,
   "id": "891e8ffc",
   "metadata": {},
   "outputs": [],
   "source": [
    "for col in outliers_removed:\n",
    "    print(f'distribution of {col}')\n",
    "    sns.boxplot(data=outliers_removed, x=col)\n",
    "    plt.show()"
   ]
  },
  {
   "cell_type": "code",
   "execution_count": 21,
   "id": "700a03d6",
   "metadata": {},
   "outputs": [],
   "source": [
    "# if the missing_percent is greater than 0.02, we want to exclude the column\n",
    "missing_thresh = 0.98\n",
    "exclude_missing = []\n",
    "num_rows = df.shape[0]\n",
    "for col in df.columns:\n",
    "    num_missing = df[col].isna().sum()\n",
    "    missing_frac = num_missing / num_rows\n",
    "    if missing_frac > missing_thresh:\n",
    "        exclude_missing.append(col)"
   ]
  },
  {
   "cell_type": "code",
   "execution_count": 22,
   "id": "e089a2fa",
   "metadata": {},
   "outputs": [
    {
     "data": {
      "text/plain": [
       "[]"
      ]
     },
     "execution_count": 22,
     "metadata": {},
     "output_type": "execute_result"
    }
   ],
   "source": [
    "exclude_missing"
   ]
  },
  {
   "cell_type": "code",
   "execution_count": 23,
   "id": "e8ad9521",
   "metadata": {},
   "outputs": [],
   "source": [
    "from sklearn.impute import SimpleImputer"
   ]
  },
  {
   "cell_type": "code",
   "execution_count": 24,
   "id": "13d8689d",
   "metadata": {},
   "outputs": [
    {
     "name": "stdout",
     "output_type": "stream",
     "text": [
      "<class 'pandas.core.frame.DataFrame'>\n",
      "Int64Index: 2140235 entries, 4 to 2152862\n",
      "Data columns (total 7 columns):\n",
      " #   Column                        Dtype  \n",
      "---  ------                        -----  \n",
      " 0   bedroomcnt                    int64  \n",
      " 1   bathroomcnt                   float64\n",
      " 2   calculatedfinishedsquarefeet  int64  \n",
      " 3   taxvaluedollarcnt             int64  \n",
      " 4   yearbuilt                     int64  \n",
      " 5   taxamount                     float64\n",
      " 6   fips                          int64  \n",
      "dtypes: float64(2), int64(5)\n",
      "memory usage: 130.6 MB\n"
     ]
    }
   ],
   "source": [
    "df.info()"
   ]
  },
  {
   "cell_type": "code",
   "execution_count": 25,
   "id": "f8f7cd0e",
   "metadata": {},
   "outputs": [
    {
     "name": "stdout",
     "output_type": "stream",
     "text": [
      "<class 'pandas.core.frame.DataFrame'>\n",
      "Int64Index: 2140235 entries, 4 to 2152862\n",
      "Data columns (total 7 columns):\n",
      " #   Column                        Non-Null Count    Dtype  \n",
      "---  ------                        --------------    -----  \n",
      " 0   bedroomcnt                    2140235 non-null  int64  \n",
      " 1   bathroomcnt                   2140235 non-null  float64\n",
      " 2   calculatedfinishedsquarefeet  2140235 non-null  int64  \n",
      " 3   taxvaluedollarcnt             2140235 non-null  int64  \n",
      " 4   yearbuilt                     2140235 non-null  int64  \n",
      " 5   taxamount                     2140235 non-null  float64\n",
      " 6   fips                          2140235 non-null  int64  \n",
      "dtypes: float64(2), int64(5)\n",
      "memory usage: 130.6 MB\n"
     ]
    }
   ],
   "source": [
    "df.info(show_counts=True)"
   ]
  },
  {
   "cell_type": "code",
   "execution_count": null,
   "id": "192e33d3",
   "metadata": {},
   "outputs": [],
   "source": []
  },
  {
   "cell_type": "code",
   "execution_count": null,
   "id": "208c5963",
   "metadata": {},
   "outputs": [],
   "source": []
  },
  {
   "cell_type": "code",
   "execution_count": null,
   "id": "c1ea519f",
   "metadata": {},
   "outputs": [],
   "source": [
    "def clean_zillow_sfr(df):\n",
    "    '''\n",
    "    this function will take in a DataFrame of zillow single family resident data,\n",
    "    it will then remove rows will null values, then remove rows with 0 bedrooms or \n",
    "    0 bathrooms, it will then change dtypes of bedroomcnt, calculatedfinishedsquarefeet,\n",
    "    taxvaluedollarcnt, yearbuilt, and fips to integer, then return the cleaned df\n",
    "    '''\n",
    "    # drop rows with null values\n",
    "    df = df.dropna()\n",
    "    # change dtypes of columns to int\n",
    "    df.bedroomcnt = df.bedroomcnt.astype(int)\n",
    "    df.calculatedfinishedsquarefeet = df.calculatedfinishedsquarefeet.astype(int)\n",
    "    df.yearbuilt = df.yearbuilt.astype(int)\n",
    "    df.taxvaluedollarcnt = df.taxvaluedollarcnt.astype(int)\n",
    "    df.fips = df.fips.astype(int)\n",
    "    # drop rows with 0 bedrooms or 0 bathrooms\n",
    "    mask = (df.bathroomcnt == 0) | (df.bedroomcnt == 0)\n",
    "    df = df[~mask]\n",
    "    # there is a house with erronious data \n",
    "    # with 4 bedrooms and 4 bathrooms and 952,576 sq feet. lets drop that\n",
    "    mask = df.calculatedfinishedsquarefeet == df.calculatedfinishedsquarefeet.max()\n",
    "    df = df[~mask]\n",
    "    # return the cleaned dataFrame\n",
    "    return df"
   ]
  },
  {
   "cell_type": "code",
   "execution_count": null,
   "id": "454c5530",
   "metadata": {},
   "outputs": [],
   "source": [
    "def split_zillow(df):\n",
    "    '''\n",
    "    this function will take in a cleaned zillow dataFrame and return the data split into\n",
    "    train, validate and test dataframes in preparation for ml modeling.\n",
    "    '''\n",
    "    train_val, test = train_test_split(df,\n",
    "                                      random_state=1342,\n",
    "                                      train_size=0.8)\n",
    "    train, validate = train_test_split(train_val,\n",
    "                                      random_state=1342,\n",
    "                                      train_size=0.7)\n",
    "    return train, validate, test"
   ]
  },
  {
   "cell_type": "code",
   "execution_count": null,
   "id": "96b7e254",
   "metadata": {},
   "outputs": [],
   "source": [
    "def wrangle_zillow():\n",
    "    return split_zillow(\n",
    "        clean_zillow_sfr(\n",
    "            acquire_zillow_sfr()))"
   ]
  },
  {
   "cell_type": "code",
   "execution_count": null,
   "id": "695f2289",
   "metadata": {},
   "outputs": [],
   "source": [
    "train, validate, test = wrangle_zillow()"
   ]
  },
  {
   "cell_type": "code",
   "execution_count": null,
   "id": "d6576be7",
   "metadata": {},
   "outputs": [],
   "source": [
    "train.shape, validate.shape, test.shape"
   ]
  },
  {
   "cell_type": "code",
   "execution_count": null,
   "id": "e864de7d",
   "metadata": {},
   "outputs": [],
   "source": [
    "validate.info()"
   ]
  },
  {
   "cell_type": "code",
   "execution_count": null,
   "id": "b3cb570b",
   "metadata": {},
   "outputs": [],
   "source": []
  }
 ],
 "metadata": {
  "kernelspec": {
   "display_name": "Python 3 (ipykernel)",
   "language": "python",
   "name": "python3"
  },
  "language_info": {
   "codemirror_mode": {
    "name": "ipython",
    "version": 3
   },
   "file_extension": ".py",
   "mimetype": "text/x-python",
   "name": "python",
   "nbconvert_exporter": "python",
   "pygments_lexer": "ipython3",
   "version": "3.9.13"
  }
 },
 "nbformat": 4,
 "nbformat_minor": 5
}
