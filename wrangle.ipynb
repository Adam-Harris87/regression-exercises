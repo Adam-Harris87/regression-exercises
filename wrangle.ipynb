{
 "cells": [
  {
   "cell_type": "code",
   "execution_count": 1,
   "id": "6282a8b5",
   "metadata": {},
   "outputs": [],
   "source": [
    "import numpy as np\n",
    "import pandas as pd\n",
    "import os\n",
    "from sklearn.model_selection import train_test_split\n",
    "import env\n",
    "import matplotlib.pyplot as plt\n",
    "import seaborn as sns"
   ]
  },
  {
   "cell_type": "code",
   "execution_count": 2,
   "id": "1d9410a4",
   "metadata": {},
   "outputs": [],
   "source": [
    "def acquire_zillow_sfr():\n",
    "    '''\n",
    "    This function will retrieve zillow home data for 2017 properties. It will only get\n",
    "    single family residential properties. the function will attempt to open the data from \n",
    "    a local csv file, if one is not found, it will download the data from the codeup\n",
    "    database. An env file is needed in the local directory in order to run this file.\n",
    "    '''\n",
    "    if os.path.exists('zillow_2017_sfr.csv'):\n",
    "        print('opening data from local file')\n",
    "        df = pd.read_csv('zillow_2017_sfr.csv', index_col=0)\n",
    "    else:\n",
    "        # run sql query and write to csv\n",
    "        print('local file not found')\n",
    "        print('retrieving data from sql server')\n",
    "        query = '''\n",
    "    SELECT \n",
    "    bedroomcnt, bathroomcnt, calculatedfinishedsquarefeet, \n",
    "    taxvaluedollarcnt, yearbuilt, taxamount, fips\n",
    "    FROM properties_2017\n",
    "    WHERE propertylandusetypeid IN(\n",
    "        SELECT propertylandusetypeid\n",
    "        FROM propertylandusetype\n",
    "        WHERE propertylandusedesc = \"Single Family Residential\")\n",
    "    -- LIMIT 1000\n",
    "    ;\n",
    "        '''\n",
    "        connection = env.get_db_url('zillow')\n",
    "        df = pd.read_sql(query, connection)\n",
    "        df.to_csv('zillow_2017_sfr.csv')\n",
    "\n",
    "    return df"
   ]
  },
  {
   "cell_type": "code",
   "execution_count": 109,
   "id": "4e4dd6a0",
   "metadata": {},
   "outputs": [
    {
     "name": "stdout",
     "output_type": "stream",
     "text": [
      "opening data from local file\n"
     ]
    },
    {
     "data": {
      "text/html": [
       "<div>\n",
       "<style scoped>\n",
       "    .dataframe tbody tr th:only-of-type {\n",
       "        vertical-align: middle;\n",
       "    }\n",
       "\n",
       "    .dataframe tbody tr th {\n",
       "        vertical-align: top;\n",
       "    }\n",
       "\n",
       "    .dataframe thead th {\n",
       "        text-align: right;\n",
       "    }\n",
       "</style>\n",
       "<table border=\"1\" class=\"dataframe\">\n",
       "  <thead>\n",
       "    <tr style=\"text-align: right;\">\n",
       "      <th></th>\n",
       "      <th>bedroomcnt</th>\n",
       "      <th>bathroomcnt</th>\n",
       "      <th>calculatedfinishedsquarefeet</th>\n",
       "      <th>taxvaluedollarcnt</th>\n",
       "      <th>yearbuilt</th>\n",
       "      <th>taxamount</th>\n",
       "      <th>fips</th>\n",
       "    </tr>\n",
       "  </thead>\n",
       "  <tbody>\n",
       "    <tr>\n",
       "      <th>0</th>\n",
       "      <td>0.0</td>\n",
       "      <td>0.0</td>\n",
       "      <td>NaN</td>\n",
       "      <td>27516.0</td>\n",
       "      <td>NaN</td>\n",
       "      <td>NaN</td>\n",
       "      <td>6037.0</td>\n",
       "    </tr>\n",
       "    <tr>\n",
       "      <th>1</th>\n",
       "      <td>0.0</td>\n",
       "      <td>0.0</td>\n",
       "      <td>NaN</td>\n",
       "      <td>10.0</td>\n",
       "      <td>NaN</td>\n",
       "      <td>NaN</td>\n",
       "      <td>6037.0</td>\n",
       "    </tr>\n",
       "    <tr>\n",
       "      <th>2</th>\n",
       "      <td>0.0</td>\n",
       "      <td>0.0</td>\n",
       "      <td>NaN</td>\n",
       "      <td>10.0</td>\n",
       "      <td>NaN</td>\n",
       "      <td>NaN</td>\n",
       "      <td>6037.0</td>\n",
       "    </tr>\n",
       "    <tr>\n",
       "      <th>3</th>\n",
       "      <td>0.0</td>\n",
       "      <td>0.0</td>\n",
       "      <td>NaN</td>\n",
       "      <td>2108.0</td>\n",
       "      <td>NaN</td>\n",
       "      <td>174.21</td>\n",
       "      <td>6037.0</td>\n",
       "    </tr>\n",
       "    <tr>\n",
       "      <th>4</th>\n",
       "      <td>4.0</td>\n",
       "      <td>2.0</td>\n",
       "      <td>3633.0</td>\n",
       "      <td>296425.0</td>\n",
       "      <td>2005.0</td>\n",
       "      <td>6941.39</td>\n",
       "      <td>6037.0</td>\n",
       "    </tr>\n",
       "    <tr>\n",
       "      <th>...</th>\n",
       "      <td>...</td>\n",
       "      <td>...</td>\n",
       "      <td>...</td>\n",
       "      <td>...</td>\n",
       "      <td>...</td>\n",
       "      <td>...</td>\n",
       "      <td>...</td>\n",
       "    </tr>\n",
       "    <tr>\n",
       "      <th>2152858</th>\n",
       "      <td>4.0</td>\n",
       "      <td>3.0</td>\n",
       "      <td>2262.0</td>\n",
       "      <td>960756.0</td>\n",
       "      <td>2015.0</td>\n",
       "      <td>13494.52</td>\n",
       "      <td>6059.0</td>\n",
       "    </tr>\n",
       "    <tr>\n",
       "      <th>2152859</th>\n",
       "      <td>4.0</td>\n",
       "      <td>4.5</td>\n",
       "      <td>3127.0</td>\n",
       "      <td>536061.0</td>\n",
       "      <td>2014.0</td>\n",
       "      <td>6244.16</td>\n",
       "      <td>6059.0</td>\n",
       "    </tr>\n",
       "    <tr>\n",
       "      <th>2152860</th>\n",
       "      <td>0.0</td>\n",
       "      <td>0.0</td>\n",
       "      <td>NaN</td>\n",
       "      <td>208057.0</td>\n",
       "      <td>NaN</td>\n",
       "      <td>5783.88</td>\n",
       "      <td>6059.0</td>\n",
       "    </tr>\n",
       "    <tr>\n",
       "      <th>2152861</th>\n",
       "      <td>3.0</td>\n",
       "      <td>2.5</td>\n",
       "      <td>1974.0</td>\n",
       "      <td>424353.0</td>\n",
       "      <td>2015.0</td>\n",
       "      <td>5302.70</td>\n",
       "      <td>6059.0</td>\n",
       "    </tr>\n",
       "    <tr>\n",
       "      <th>2152862</th>\n",
       "      <td>4.0</td>\n",
       "      <td>4.0</td>\n",
       "      <td>2110.0</td>\n",
       "      <td>554009.0</td>\n",
       "      <td>2014.0</td>\n",
       "      <td>6761.20</td>\n",
       "      <td>6037.0</td>\n",
       "    </tr>\n",
       "  </tbody>\n",
       "</table>\n",
       "<p>2152863 rows × 7 columns</p>\n",
       "</div>"
      ],
      "text/plain": [
       "         bedroomcnt  bathroomcnt  calculatedfinishedsquarefeet  \\\n",
       "0               0.0          0.0                           NaN   \n",
       "1               0.0          0.0                           NaN   \n",
       "2               0.0          0.0                           NaN   \n",
       "3               0.0          0.0                           NaN   \n",
       "4               4.0          2.0                        3633.0   \n",
       "...             ...          ...                           ...   \n",
       "2152858         4.0          3.0                        2262.0   \n",
       "2152859         4.0          4.5                        3127.0   \n",
       "2152860         0.0          0.0                           NaN   \n",
       "2152861         3.0          2.5                        1974.0   \n",
       "2152862         4.0          4.0                        2110.0   \n",
       "\n",
       "         taxvaluedollarcnt  yearbuilt  taxamount    fips  \n",
       "0                  27516.0        NaN        NaN  6037.0  \n",
       "1                     10.0        NaN        NaN  6037.0  \n",
       "2                     10.0        NaN        NaN  6037.0  \n",
       "3                   2108.0        NaN     174.21  6037.0  \n",
       "4                 296425.0     2005.0    6941.39  6037.0  \n",
       "...                    ...        ...        ...     ...  \n",
       "2152858           960756.0     2015.0   13494.52  6059.0  \n",
       "2152859           536061.0     2014.0    6244.16  6059.0  \n",
       "2152860           208057.0        NaN    5783.88  6059.0  \n",
       "2152861           424353.0     2015.0    5302.70  6059.0  \n",
       "2152862           554009.0     2014.0    6761.20  6037.0  \n",
       "\n",
       "[2152863 rows x 7 columns]"
      ]
     },
     "execution_count": 109,
     "metadata": {},
     "output_type": "execute_result"
    }
   ],
   "source": [
    "df = acquire_zillow_sfr()\n",
    "df"
   ]
  },
  {
   "cell_type": "code",
   "execution_count": 4,
   "id": "15f5b8ab",
   "metadata": {},
   "outputs": [
    {
     "name": "stdout",
     "output_type": "stream",
     "text": [
      "<class 'pandas.core.frame.DataFrame'>\n",
      "Int64Index: 2152863 entries, 0 to 2152862\n",
      "Data columns (total 7 columns):\n",
      " #   Column                        Dtype  \n",
      "---  ------                        -----  \n",
      " 0   bedroomcnt                    float64\n",
      " 1   bathroomcnt                   float64\n",
      " 2   calculatedfinishedsquarefeet  float64\n",
      " 3   taxvaluedollarcnt             float64\n",
      " 4   yearbuilt                     float64\n",
      " 5   taxamount                     float64\n",
      " 6   fips                          float64\n",
      "dtypes: float64(7)\n",
      "memory usage: 131.4 MB\n"
     ]
    }
   ],
   "source": [
    "df.info()"
   ]
  },
  {
   "cell_type": "code",
   "execution_count": 5,
   "id": "efb7164a",
   "metadata": {},
   "outputs": [
    {
     "data": {
      "text/plain": [
       "(2152863, 7)"
      ]
     },
     "execution_count": 5,
     "metadata": {},
     "output_type": "execute_result"
    }
   ],
   "source": [
    "df.shape"
   ]
  },
  {
   "cell_type": "code",
   "execution_count": 6,
   "id": "b6f69e4d",
   "metadata": {},
   "outputs": [
    {
     "data": {
      "text/plain": [
       "6037.0    1431811\n",
       "6059.0     555077\n",
       "6111.0     165975\n",
       "Name: fips, dtype: int64"
      ]
     },
     "execution_count": 6,
     "metadata": {},
     "output_type": "execute_result"
    }
   ],
   "source": [
    "df.fips.value_counts()"
   ]
  },
  {
   "cell_type": "code",
   "execution_count": 21,
   "id": "4985aa29",
   "metadata": {},
   "outputs": [
    {
     "data": {
      "text/plain": [
       "bedroomcnt                        11\n",
       "bathroomcnt                       11\n",
       "calculatedfinishedsquarefeet    8484\n",
       "taxvaluedollarcnt                493\n",
       "yearbuilt                       9337\n",
       "taxamount                       4442\n",
       "fips                               0\n",
       "dtype: int64"
      ]
     },
     "execution_count": 21,
     "metadata": {},
     "output_type": "execute_result"
    }
   ],
   "source": [
    "df.isna().sum()"
   ]
  },
  {
   "cell_type": "code",
   "execution_count": 34,
   "id": "e0e1de15",
   "metadata": {},
   "outputs": [
    {
     "data": {
      "text/plain": [
       "0.004337015406925568"
      ]
     },
     "execution_count": 34,
     "metadata": {},
     "output_type": "execute_result"
    }
   ],
   "source": [
    "9337 / 2152863"
   ]
  },
  {
   "cell_type": "code",
   "execution_count": 110,
   "id": "5b72348f",
   "metadata": {},
   "outputs": [
    {
     "data": {
      "text/html": [
       "<div>\n",
       "<style scoped>\n",
       "    .dataframe tbody tr th:only-of-type {\n",
       "        vertical-align: middle;\n",
       "    }\n",
       "\n",
       "    .dataframe tbody tr th {\n",
       "        vertical-align: top;\n",
       "    }\n",
       "\n",
       "    .dataframe thead th {\n",
       "        text-align: right;\n",
       "    }\n",
       "</style>\n",
       "<table border=\"1\" class=\"dataframe\">\n",
       "  <thead>\n",
       "    <tr style=\"text-align: right;\">\n",
       "      <th></th>\n",
       "      <th>bedroomcnt</th>\n",
       "      <th>bathroomcnt</th>\n",
       "      <th>calculatedfinishedsquarefeet</th>\n",
       "      <th>taxvaluedollarcnt</th>\n",
       "      <th>yearbuilt</th>\n",
       "      <th>taxamount</th>\n",
       "      <th>fips</th>\n",
       "    </tr>\n",
       "  </thead>\n",
       "  <tbody>\n",
       "    <tr>\n",
       "      <th>148</th>\n",
       "      <td>4.0</td>\n",
       "      <td>4.0</td>\n",
       "      <td>3002.0</td>\n",
       "      <td>1313252.0</td>\n",
       "      <td>NaN</td>\n",
       "      <td>13710.32</td>\n",
       "      <td>6111.0</td>\n",
       "    </tr>\n",
       "    <tr>\n",
       "      <th>2582</th>\n",
       "      <td>0.0</td>\n",
       "      <td>0.0</td>\n",
       "      <td>2700.0</td>\n",
       "      <td>180936.0</td>\n",
       "      <td>NaN</td>\n",
       "      <td>2806.88</td>\n",
       "      <td>6037.0</td>\n",
       "    </tr>\n",
       "    <tr>\n",
       "      <th>3531</th>\n",
       "      <td>3.0</td>\n",
       "      <td>1.0</td>\n",
       "      <td>1044.0</td>\n",
       "      <td>154489.0</td>\n",
       "      <td>NaN</td>\n",
       "      <td>1997.82</td>\n",
       "      <td>6037.0</td>\n",
       "    </tr>\n",
       "    <tr>\n",
       "      <th>3532</th>\n",
       "      <td>2.0</td>\n",
       "      <td>1.0</td>\n",
       "      <td>1018.0</td>\n",
       "      <td>51454.0</td>\n",
       "      <td>NaN</td>\n",
       "      <td>682.22</td>\n",
       "      <td>6037.0</td>\n",
       "    </tr>\n",
       "    <tr>\n",
       "      <th>4829</th>\n",
       "      <td>0.0</td>\n",
       "      <td>0.0</td>\n",
       "      <td>1093.0</td>\n",
       "      <td>80613.0</td>\n",
       "      <td>NaN</td>\n",
       "      <td>1266.96</td>\n",
       "      <td>6037.0</td>\n",
       "    </tr>\n",
       "    <tr>\n",
       "      <th>...</th>\n",
       "      <td>...</td>\n",
       "      <td>...</td>\n",
       "      <td>...</td>\n",
       "      <td>...</td>\n",
       "      <td>...</td>\n",
       "      <td>...</td>\n",
       "      <td>...</td>\n",
       "    </tr>\n",
       "    <tr>\n",
       "      <th>2131247</th>\n",
       "      <td>5.0</td>\n",
       "      <td>5.5</td>\n",
       "      <td>4668.0</td>\n",
       "      <td>668182.0</td>\n",
       "      <td>NaN</td>\n",
       "      <td>7353.70</td>\n",
       "      <td>6111.0</td>\n",
       "    </tr>\n",
       "    <tr>\n",
       "      <th>2131634</th>\n",
       "      <td>3.0</td>\n",
       "      <td>2.0</td>\n",
       "      <td>1733.0</td>\n",
       "      <td>826353.0</td>\n",
       "      <td>NaN</td>\n",
       "      <td>8725.22</td>\n",
       "      <td>6111.0</td>\n",
       "    </tr>\n",
       "    <tr>\n",
       "      <th>2134048</th>\n",
       "      <td>2.0</td>\n",
       "      <td>1.0</td>\n",
       "      <td>780.0</td>\n",
       "      <td>74005.0</td>\n",
       "      <td>NaN</td>\n",
       "      <td>974.24</td>\n",
       "      <td>6037.0</td>\n",
       "    </tr>\n",
       "    <tr>\n",
       "      <th>2145455</th>\n",
       "      <td>3.0</td>\n",
       "      <td>1.0</td>\n",
       "      <td>1866.0</td>\n",
       "      <td>44084.0</td>\n",
       "      <td>NaN</td>\n",
       "      <td>640.32</td>\n",
       "      <td>6037.0</td>\n",
       "    </tr>\n",
       "    <tr>\n",
       "      <th>2146678</th>\n",
       "      <td>0.0</td>\n",
       "      <td>0.0</td>\n",
       "      <td>325.0</td>\n",
       "      <td>17776.0</td>\n",
       "      <td>NaN</td>\n",
       "      <td>130.74</td>\n",
       "      <td>6037.0</td>\n",
       "    </tr>\n",
       "  </tbody>\n",
       "</table>\n",
       "<p>1439 rows × 7 columns</p>\n",
       "</div>"
      ],
      "text/plain": [
       "         bedroomcnt  bathroomcnt  calculatedfinishedsquarefeet  \\\n",
       "148             4.0          4.0                        3002.0   \n",
       "2582            0.0          0.0                        2700.0   \n",
       "3531            3.0          1.0                        1044.0   \n",
       "3532            2.0          1.0                        1018.0   \n",
       "4829            0.0          0.0                        1093.0   \n",
       "...             ...          ...                           ...   \n",
       "2131247         5.0          5.5                        4668.0   \n",
       "2131634         3.0          2.0                        1733.0   \n",
       "2134048         2.0          1.0                         780.0   \n",
       "2145455         3.0          1.0                        1866.0   \n",
       "2146678         0.0          0.0                         325.0   \n",
       "\n",
       "         taxvaluedollarcnt  yearbuilt  taxamount    fips  \n",
       "148              1313252.0        NaN   13710.32  6111.0  \n",
       "2582              180936.0        NaN    2806.88  6037.0  \n",
       "3531              154489.0        NaN    1997.82  6037.0  \n",
       "3532               51454.0        NaN     682.22  6037.0  \n",
       "4829               80613.0        NaN    1266.96  6037.0  \n",
       "...                    ...        ...        ...     ...  \n",
       "2131247           668182.0        NaN    7353.70  6111.0  \n",
       "2131634           826353.0        NaN    8725.22  6111.0  \n",
       "2134048            74005.0        NaN     974.24  6037.0  \n",
       "2145455            44084.0        NaN     640.32  6037.0  \n",
       "2146678            17776.0        NaN     130.74  6037.0  \n",
       "\n",
       "[1439 rows x 7 columns]"
      ]
     },
     "execution_count": 110,
     "metadata": {},
     "output_type": "execute_result"
    }
   ],
   "source": [
    "df[(df.yearbuilt.isna() == True) & (df.calculatedfinishedsquarefeet.isna() == False)\n",
    "  & (df.taxamount.isna() == False)]"
   ]
  },
  {
   "cell_type": "markdown",
   "id": "82385d7c",
   "metadata": {},
   "source": [
    "There are properties that don't have a year built, but they have a calculated square feet and tax amount for the property. Could these be properties being built?"
   ]
  },
  {
   "cell_type": "markdown",
   "id": "d121c633",
   "metadata": {},
   "source": [
    "notice that all of the rows with a null calculated square feet value has 0 bedrooms, 0 bathrooms and null year built value, which to me indicates that there is no house built on the plot yet. So lets drop the null values."
   ]
  },
  {
   "cell_type": "code",
   "execution_count": null,
   "id": "9efd6398",
   "metadata": {},
   "outputs": [],
   "source": []
  },
  {
   "cell_type": "code",
   "execution_count": 35,
   "id": "d194c403",
   "metadata": {},
   "outputs": [
    {
     "data": {
      "text/plain": [
       "4          2005.0\n",
       "6          2011.0\n",
       "7          1926.0\n",
       "11         1972.0\n",
       "14         1973.0\n",
       "            ...  \n",
       "2152856    2015.0\n",
       "2152858    2015.0\n",
       "2152859    2014.0\n",
       "2152861    2015.0\n",
       "2152862    2014.0\n",
       "Name: yearbuilt, Length: 2143526, dtype: float64"
      ]
     },
     "execution_count": 35,
     "metadata": {},
     "output_type": "execute_result"
    }
   ],
   "source": [
    "df.yearbuilt.dropna()"
   ]
  },
  {
   "cell_type": "code",
   "execution_count": 36,
   "id": "afce0aaa",
   "metadata": {},
   "outputs": [
    {
     "data": {
      "text/plain": [
       "0.9956629845930745"
      ]
     },
     "execution_count": 36,
     "metadata": {},
     "output_type": "execute_result"
    }
   ],
   "source": [
    "2143526 / 2152863"
   ]
  },
  {
   "cell_type": "code",
   "execution_count": 48,
   "id": "de6ea3b6",
   "metadata": {},
   "outputs": [
    {
     "data": {
      "text/plain": [
       "1801.0       3\n",
       "1807.0       1\n",
       "1812.0       2\n",
       "1823.0       1\n",
       "1833.0       1\n",
       "          ... \n",
       "2012.0    3438\n",
       "2013.0    4784\n",
       "2014.0    4714\n",
       "2015.0    3556\n",
       "2016.0      98\n",
       "Name: yearbuilt, Length: 153, dtype: int64"
      ]
     },
     "execution_count": 48,
     "metadata": {},
     "output_type": "execute_result"
    }
   ],
   "source": [
    "df.yearbuilt.value_counts().sort_index().dropna()"
   ]
  },
  {
   "cell_type": "code",
   "execution_count": 112,
   "id": "3aa20f4f",
   "metadata": {},
   "outputs": [],
   "source": [
    "df = df.dropna()"
   ]
  },
  {
   "cell_type": "code",
   "execution_count": 49,
   "id": "f5d30b78",
   "metadata": {},
   "outputs": [
    {
     "name": "stdout",
     "output_type": "stream",
     "text": [
      "0.0      13187\n",
      "1.0      23166\n",
      "2.0     335473\n",
      "3.0     964298\n",
      "4.0     634289\n",
      "5.0     150866\n",
      "6.0      25166\n",
      "7.0       4807\n",
      "8.0       1107\n",
      "9.0        291\n",
      "10.0       121\n",
      "11.0        34\n",
      "12.0        12\n",
      "13.0        16\n",
      "14.0         7\n",
      "15.0         6\n",
      "16.0         2\n",
      "18.0         3\n",
      "25.0         1\n",
      "Name: bedroomcnt, dtype: int64\n",
      "0.00      13027\n",
      "0.50         16\n",
      "1.00     414324\n",
      "1.50      31211\n",
      "1.75          3\n",
      "2.00     943589\n",
      "2.50     142981\n",
      "3.00     422841\n",
      "3.50      28518\n",
      "4.00      82155\n",
      "4.50      19506\n",
      "5.00      28362\n",
      "5.50       6217\n",
      "6.00      10747\n",
      "6.50       1333\n",
      "7.00       4394\n",
      "7.50        384\n",
      "8.00       1692\n",
      "8.50        110\n",
      "9.00        713\n",
      "9.50         50\n",
      "10.00       325\n",
      "10.50        14\n",
      "11.00       146\n",
      "11.50         3\n",
      "12.00        73\n",
      "12.50         3\n",
      "13.00        39\n",
      "14.00        25\n",
      "14.50         1\n",
      "15.00        17\n",
      "16.00        12\n",
      "17.00         4\n",
      "18.00         8\n",
      "19.00         1\n",
      "19.50         1\n",
      "20.00         6\n",
      "32.00         1\n",
      "Name: bathroomcnt, dtype: int64\n",
      "1.0         6\n",
      "2.0         2\n",
      "3.0         7\n",
      "7.0         1\n",
      "10.0        2\n",
      "           ..\n",
      "52503.0     1\n",
      "59220.0     1\n",
      "63692.0     1\n",
      "531118.0    1\n",
      "952576.0    1\n",
      "Name: calculatedfinishedsquarefeet, Length: 10580, dtype: int64\n",
      "1.0           3\n",
      "2.0           1\n",
      "4.0           2\n",
      "5.0           4\n",
      "6.0           1\n",
      "             ..\n",
      "71067500.0    1\n",
      "83196095.0    1\n",
      "88020448.0    1\n",
      "90188462.0    1\n",
      "98428909.0    1\n",
      "Name: taxvaluedollarcnt, Length: 592269, dtype: int64\n",
      "1801.0       3\n",
      "1807.0       1\n",
      "1812.0       2\n",
      "1823.0       1\n",
      "1833.0       1\n",
      "          ... \n",
      "2012.0    3438\n",
      "2013.0    4784\n",
      "2014.0    4714\n",
      "2015.0    3556\n",
      "2016.0      98\n",
      "Name: yearbuilt, Length: 153, dtype: int64\n",
      "1.85          1\n",
      "5.78          1\n",
      "6.00          1\n",
      "6.18          1\n",
      "6.34          1\n",
      "             ..\n",
      "1052070.50    1\n",
      "1078101.87    1\n",
      "1195295.62    1\n",
      "1310824.04    1\n",
      "1337755.86    1\n",
      "Name: taxamount, Length: 918838, dtype: int64\n",
      "6037.0    1431811\n",
      "6059.0     555077\n",
      "6111.0     165975\n",
      "Name: fips, dtype: int64\n"
     ]
    }
   ],
   "source": [
    "for col in df.columns:\n",
    "    print(df[col].value_counts().sort_index())"
   ]
  },
  {
   "cell_type": "markdown",
   "id": "a7a4ada7",
   "metadata": {},
   "source": [
    "we still have houses with 0 bathrooms or 0 bedrooms? places with less than 10 square feet? are they shacks? since this is a small portion of our data, lets drop them also"
   ]
  },
  {
   "cell_type": "code",
   "execution_count": 11,
   "id": "df168fdb",
   "metadata": {},
   "outputs": [
    {
     "name": "stdout",
     "output_type": "stream",
     "text": [
      "<class 'pandas.core.frame.DataFrame'>\n",
      "Int64Index: 2140235 entries, 4 to 2152862\n",
      "Data columns (total 7 columns):\n",
      " #   Column                        Dtype  \n",
      "---  ------                        -----  \n",
      " 0   bedroomcnt                    float64\n",
      " 1   bathroomcnt                   float64\n",
      " 2   calculatedfinishedsquarefeet  float64\n",
      " 3   taxvaluedollarcnt             float64\n",
      " 4   yearbuilt                     float64\n",
      " 5   taxamount                     float64\n",
      " 6   fips                          float64\n",
      "dtypes: float64(7)\n",
      "memory usage: 130.6 MB\n"
     ]
    }
   ],
   "source": [
    "df.info()"
   ]
  },
  {
   "cell_type": "markdown",
   "id": "edf07704",
   "metadata": {},
   "source": [
    "all of the dtypes are float, do they need to be?"
   ]
  },
  {
   "cell_type": "code",
   "execution_count": 12,
   "id": "df10762b",
   "metadata": {},
   "outputs": [
    {
     "name": "stdout",
     "output_type": "stream",
     "text": [
      "bedroomcnt\n",
      "1.0\n",
      "bathroomcnt\n",
      "0.8925192794249229\n",
      "calculatedfinishedsquarefeet\n",
      "1.0\n",
      "taxvaluedollarcnt\n",
      "1.0\n",
      "yearbuilt\n",
      "1.0\n",
      "taxamount\n",
      "0.013370027123189743\n",
      "fips\n",
      "1.0\n"
     ]
    }
   ],
   "source": [
    "for col in df:\n",
    "    print(f'{col}')\n",
    "    equal_int = (df[col] == df[col].astype(int)).mean()\n",
    "    print(equal_int)"
   ]
  },
  {
   "cell_type": "markdown",
   "id": "4e86aed8",
   "metadata": {},
   "source": [
    "looks like bathroomcnt and taxamount need to be float, the others can be int"
   ]
  },
  {
   "cell_type": "code",
   "execution_count": 113,
   "id": "5eb41c40",
   "metadata": {},
   "outputs": [
    {
     "name": "stderr",
     "output_type": "stream",
     "text": [
      "/var/folders/49/v6sf5vy165dghytk4qv6jfhc0000gn/T/ipykernel_1151/3418949021.py:1: SettingWithCopyWarning: \n",
      "A value is trying to be set on a copy of a slice from a DataFrame.\n",
      "Try using .loc[row_indexer,col_indexer] = value instead\n",
      "\n",
      "See the caveats in the documentation: https://pandas.pydata.org/pandas-docs/stable/user_guide/indexing.html#returning-a-view-versus-a-copy\n",
      "  df.bedroomcnt = df.bedroomcnt.astype(int)\n",
      "/var/folders/49/v6sf5vy165dghytk4qv6jfhc0000gn/T/ipykernel_1151/3418949021.py:2: SettingWithCopyWarning: \n",
      "A value is trying to be set on a copy of a slice from a DataFrame.\n",
      "Try using .loc[row_indexer,col_indexer] = value instead\n",
      "\n",
      "See the caveats in the documentation: https://pandas.pydata.org/pandas-docs/stable/user_guide/indexing.html#returning-a-view-versus-a-copy\n",
      "  df.calculatedfinishedsquarefeet = df.calculatedfinishedsquarefeet.astype(int)\n",
      "/var/folders/49/v6sf5vy165dghytk4qv6jfhc0000gn/T/ipykernel_1151/3418949021.py:3: SettingWithCopyWarning: \n",
      "A value is trying to be set on a copy of a slice from a DataFrame.\n",
      "Try using .loc[row_indexer,col_indexer] = value instead\n",
      "\n",
      "See the caveats in the documentation: https://pandas.pydata.org/pandas-docs/stable/user_guide/indexing.html#returning-a-view-versus-a-copy\n",
      "  df.yearbuilt = df.yearbuilt.astype(int)\n",
      "/var/folders/49/v6sf5vy165dghytk4qv6jfhc0000gn/T/ipykernel_1151/3418949021.py:4: SettingWithCopyWarning: \n",
      "A value is trying to be set on a copy of a slice from a DataFrame.\n",
      "Try using .loc[row_indexer,col_indexer] = value instead\n",
      "\n",
      "See the caveats in the documentation: https://pandas.pydata.org/pandas-docs/stable/user_guide/indexing.html#returning-a-view-versus-a-copy\n",
      "  df.taxvaluedollarcnt = df.taxvaluedollarcnt.astype(int)\n",
      "/var/folders/49/v6sf5vy165dghytk4qv6jfhc0000gn/T/ipykernel_1151/3418949021.py:5: SettingWithCopyWarning: \n",
      "A value is trying to be set on a copy of a slice from a DataFrame.\n",
      "Try using .loc[row_indexer,col_indexer] = value instead\n",
      "\n",
      "See the caveats in the documentation: https://pandas.pydata.org/pandas-docs/stable/user_guide/indexing.html#returning-a-view-versus-a-copy\n",
      "  df.fips = df.fips.astype(int)\n"
     ]
    }
   ],
   "source": [
    "df.bedroomcnt = df.bedroomcnt.astype(int)\n",
    "df.calculatedfinishedsquarefeet = df.calculatedfinishedsquarefeet.astype(int)\n",
    "df.yearbuilt = df.yearbuilt.astype(int)\n",
    "df.taxvaluedollarcnt = df.taxvaluedollarcnt.astype(int)\n",
    "df.fips = df.fips.astype(int)"
   ]
  },
  {
   "cell_type": "code",
   "execution_count": 15,
   "id": "ae033ec6",
   "metadata": {},
   "outputs": [
    {
     "name": "stdout",
     "output_type": "stream",
     "text": [
      "<class 'pandas.core.frame.DataFrame'>\n",
      "Int64Index: 5326 entries, 11 to 2152710\n",
      "Data columns (total 7 columns):\n",
      " #   Column                        Non-Null Count  Dtype  \n",
      "---  ------                        --------------  -----  \n",
      " 0   bedroomcnt                    5326 non-null   int64  \n",
      " 1   bathroomcnt                   5326 non-null   float64\n",
      " 2   calculatedfinishedsquarefeet  5326 non-null   int64  \n",
      " 3   taxvaluedollarcnt             5326 non-null   int64  \n",
      " 4   yearbuilt                     5326 non-null   int64  \n",
      " 5   taxamount                     5326 non-null   float64\n",
      " 6   fips                          5326 non-null   int64  \n",
      "dtypes: float64(2), int64(5)\n",
      "memory usage: 332.9 KB\n"
     ]
    }
   ],
   "source": [
    "df.info()"
   ]
  },
  {
   "cell_type": "code",
   "execution_count": 114,
   "id": "f2b04b4a",
   "metadata": {},
   "outputs": [
    {
     "data": {
      "text/html": [
       "<div>\n",
       "<style scoped>\n",
       "    .dataframe tbody tr th:only-of-type {\n",
       "        vertical-align: middle;\n",
       "    }\n",
       "\n",
       "    .dataframe tbody tr th {\n",
       "        vertical-align: top;\n",
       "    }\n",
       "\n",
       "    .dataframe thead th {\n",
       "        text-align: right;\n",
       "    }\n",
       "</style>\n",
       "<table border=\"1\" class=\"dataframe\">\n",
       "  <thead>\n",
       "    <tr style=\"text-align: right;\">\n",
       "      <th></th>\n",
       "      <th>bedroomcnt</th>\n",
       "      <th>bathroomcnt</th>\n",
       "      <th>calculatedfinishedsquarefeet</th>\n",
       "      <th>taxvaluedollarcnt</th>\n",
       "      <th>yearbuilt</th>\n",
       "      <th>taxamount</th>\n",
       "      <th>fips</th>\n",
       "    </tr>\n",
       "  </thead>\n",
       "  <tbody>\n",
       "    <tr>\n",
       "      <th>11</th>\n",
       "      <td>0</td>\n",
       "      <td>0.0</td>\n",
       "      <td>1200</td>\n",
       "      <td>5328</td>\n",
       "      <td>1972</td>\n",
       "      <td>91.60</td>\n",
       "      <td>6037</td>\n",
       "    </tr>\n",
       "    <tr>\n",
       "      <th>14</th>\n",
       "      <td>0</td>\n",
       "      <td>0.0</td>\n",
       "      <td>171</td>\n",
       "      <td>6920</td>\n",
       "      <td>1973</td>\n",
       "      <td>255.17</td>\n",
       "      <td>6037</td>\n",
       "    </tr>\n",
       "    <tr>\n",
       "      <th>15</th>\n",
       "      <td>0</td>\n",
       "      <td>0.0</td>\n",
       "      <td>203</td>\n",
       "      <td>14166</td>\n",
       "      <td>1960</td>\n",
       "      <td>163.79</td>\n",
       "      <td>6037</td>\n",
       "    </tr>\n",
       "    <tr>\n",
       "      <th>398</th>\n",
       "      <td>3</td>\n",
       "      <td>0.0</td>\n",
       "      <td>2239</td>\n",
       "      <td>396608</td>\n",
       "      <td>1988</td>\n",
       "      <td>4404.22</td>\n",
       "      <td>6111</td>\n",
       "    </tr>\n",
       "    <tr>\n",
       "      <th>753</th>\n",
       "      <td>3</td>\n",
       "      <td>0.0</td>\n",
       "      <td>2421</td>\n",
       "      <td>1111120</td>\n",
       "      <td>1976</td>\n",
       "      <td>12394.16</td>\n",
       "      <td>6111</td>\n",
       "    </tr>\n",
       "    <tr>\n",
       "      <th>...</th>\n",
       "      <td>...</td>\n",
       "      <td>...</td>\n",
       "      <td>...</td>\n",
       "      <td>...</td>\n",
       "      <td>...</td>\n",
       "      <td>...</td>\n",
       "      <td>...</td>\n",
       "    </tr>\n",
       "    <tr>\n",
       "      <th>2149054</th>\n",
       "      <td>0</td>\n",
       "      <td>0.0</td>\n",
       "      <td>938</td>\n",
       "      <td>56733</td>\n",
       "      <td>1978</td>\n",
       "      <td>986.86</td>\n",
       "      <td>6037</td>\n",
       "    </tr>\n",
       "    <tr>\n",
       "      <th>2151453</th>\n",
       "      <td>2</td>\n",
       "      <td>0.0</td>\n",
       "      <td>1108</td>\n",
       "      <td>937075</td>\n",
       "      <td>1932</td>\n",
       "      <td>10851.50</td>\n",
       "      <td>6059</td>\n",
       "    </tr>\n",
       "    <tr>\n",
       "      <th>2152505</th>\n",
       "      <td>0</td>\n",
       "      <td>0.0</td>\n",
       "      <td>240</td>\n",
       "      <td>31234</td>\n",
       "      <td>1942</td>\n",
       "      <td>414.04</td>\n",
       "      <td>6037</td>\n",
       "    </tr>\n",
       "    <tr>\n",
       "      <th>2152704</th>\n",
       "      <td>0</td>\n",
       "      <td>1.0</td>\n",
       "      <td>1490</td>\n",
       "      <td>152000</td>\n",
       "      <td>1930</td>\n",
       "      <td>3614.40</td>\n",
       "      <td>6037</td>\n",
       "    </tr>\n",
       "    <tr>\n",
       "      <th>2152710</th>\n",
       "      <td>0</td>\n",
       "      <td>2.0</td>\n",
       "      <td>2140</td>\n",
       "      <td>338004</td>\n",
       "      <td>1928</td>\n",
       "      <td>4406.28</td>\n",
       "      <td>6037</td>\n",
       "    </tr>\n",
       "  </tbody>\n",
       "</table>\n",
       "<p>5326 rows × 7 columns</p>\n",
       "</div>"
      ],
      "text/plain": [
       "         bedroomcnt  bathroomcnt  calculatedfinishedsquarefeet  \\\n",
       "11                0          0.0                          1200   \n",
       "14                0          0.0                           171   \n",
       "15                0          0.0                           203   \n",
       "398               3          0.0                          2239   \n",
       "753               3          0.0                          2421   \n",
       "...             ...          ...                           ...   \n",
       "2149054           0          0.0                           938   \n",
       "2151453           2          0.0                          1108   \n",
       "2152505           0          0.0                           240   \n",
       "2152704           0          1.0                          1490   \n",
       "2152710           0          2.0                          2140   \n",
       "\n",
       "         taxvaluedollarcnt  yearbuilt  taxamount  fips  \n",
       "11                    5328       1972      91.60  6037  \n",
       "14                    6920       1973     255.17  6037  \n",
       "15                   14166       1960     163.79  6037  \n",
       "398                 396608       1988    4404.22  6111  \n",
       "753                1111120       1976   12394.16  6111  \n",
       "...                    ...        ...        ...   ...  \n",
       "2149054              56733       1978     986.86  6037  \n",
       "2151453             937075       1932   10851.50  6059  \n",
       "2152505              31234       1942     414.04  6037  \n",
       "2152704             152000       1930    3614.40  6037  \n",
       "2152710             338004       1928    4406.28  6037  \n",
       "\n",
       "[5326 rows x 7 columns]"
      ]
     },
     "execution_count": 114,
     "metadata": {},
     "output_type": "execute_result"
    }
   ],
   "source": [
    "mask = ((df.bathroomcnt == 0) | (df.bedroomcnt == 0))\n",
    "df[mask]"
   ]
  },
  {
   "cell_type": "code",
   "execution_count": 18,
   "id": "6beb782d",
   "metadata": {},
   "outputs": [
    {
     "data": {
      "text/html": [
       "<div>\n",
       "<style scoped>\n",
       "    .dataframe tbody tr th:only-of-type {\n",
       "        vertical-align: middle;\n",
       "    }\n",
       "\n",
       "    .dataframe tbody tr th {\n",
       "        vertical-align: top;\n",
       "    }\n",
       "\n",
       "    .dataframe thead th {\n",
       "        text-align: right;\n",
       "    }\n",
       "</style>\n",
       "<table border=\"1\" class=\"dataframe\">\n",
       "  <thead>\n",
       "    <tr style=\"text-align: right;\">\n",
       "      <th></th>\n",
       "      <th>bedroomcnt</th>\n",
       "      <th>bathroomcnt</th>\n",
       "      <th>calculatedfinishedsquarefeet</th>\n",
       "      <th>taxvaluedollarcnt</th>\n",
       "      <th>yearbuilt</th>\n",
       "      <th>taxamount</th>\n",
       "      <th>fips</th>\n",
       "    </tr>\n",
       "  </thead>\n",
       "  <tbody>\n",
       "  </tbody>\n",
       "</table>\n",
       "</div>"
      ],
      "text/plain": [
       "Empty DataFrame\n",
       "Columns: [bedroomcnt, bathroomcnt, calculatedfinishedsquarefeet, taxvaluedollarcnt, yearbuilt, taxamount, fips]\n",
       "Index: []"
      ]
     },
     "execution_count": 18,
     "metadata": {},
     "output_type": "execute_result"
    }
   ],
   "source": [
    "mask = (df.bathroomcnt == 0) | (df.bedroomcnt == 0)\n",
    "\n",
    "df = df[~mask]\n",
    "\n",
    "df"
   ]
  },
  {
   "cell_type": "code",
   "execution_count": 66,
   "id": "f2debc35",
   "metadata": {},
   "outputs": [
    {
     "data": {
      "text/html": [
       "<div>\n",
       "<style scoped>\n",
       "    .dataframe tbody tr th:only-of-type {\n",
       "        vertical-align: middle;\n",
       "    }\n",
       "\n",
       "    .dataframe tbody tr th {\n",
       "        vertical-align: top;\n",
       "    }\n",
       "\n",
       "    .dataframe thead th {\n",
       "        text-align: right;\n",
       "    }\n",
       "</style>\n",
       "<table border=\"1\" class=\"dataframe\">\n",
       "  <thead>\n",
       "    <tr style=\"text-align: right;\">\n",
       "      <th></th>\n",
       "      <th>bedroomcnt</th>\n",
       "      <th>bathroomcnt</th>\n",
       "      <th>calculatedfinishedsquarefeet</th>\n",
       "      <th>taxvaluedollarcnt</th>\n",
       "      <th>yearbuilt</th>\n",
       "      <th>taxamount</th>\n",
       "      <th>fips</th>\n",
       "    </tr>\n",
       "  </thead>\n",
       "  <tbody>\n",
       "    <tr>\n",
       "      <th>3956</th>\n",
       "      <td>0.0</td>\n",
       "      <td>0.0</td>\n",
       "      <td>99.0</td>\n",
       "      <td>36593.0</td>\n",
       "      <td>1940.0</td>\n",
       "      <td>542.00</td>\n",
       "      <td>6037.0</td>\n",
       "    </tr>\n",
       "    <tr>\n",
       "      <th>32077</th>\n",
       "      <td>0.0</td>\n",
       "      <td>0.0</td>\n",
       "      <td>60.0</td>\n",
       "      <td>11534.0</td>\n",
       "      <td>2005.0</td>\n",
       "      <td>186.12</td>\n",
       "      <td>6037.0</td>\n",
       "    </tr>\n",
       "    <tr>\n",
       "      <th>39196</th>\n",
       "      <td>0.0</td>\n",
       "      <td>1.0</td>\n",
       "      <td>78.0</td>\n",
       "      <td>52991.0</td>\n",
       "      <td>2009.0</td>\n",
       "      <td>866.12</td>\n",
       "      <td>6037.0</td>\n",
       "    </tr>\n",
       "    <tr>\n",
       "      <th>53614</th>\n",
       "      <td>0.0</td>\n",
       "      <td>0.0</td>\n",
       "      <td>20.0</td>\n",
       "      <td>1124.0</td>\n",
       "      <td>2005.0</td>\n",
       "      <td>62.05</td>\n",
       "      <td>6037.0</td>\n",
       "    </tr>\n",
       "    <tr>\n",
       "      <th>58438</th>\n",
       "      <td>2.0</td>\n",
       "      <td>1.0</td>\n",
       "      <td>1.0</td>\n",
       "      <td>121376.0</td>\n",
       "      <td>1907.0</td>\n",
       "      <td>1996.35</td>\n",
       "      <td>6037.0</td>\n",
       "    </tr>\n",
       "    <tr>\n",
       "      <th>...</th>\n",
       "      <td>...</td>\n",
       "      <td>...</td>\n",
       "      <td>...</td>\n",
       "      <td>...</td>\n",
       "      <td>...</td>\n",
       "      <td>...</td>\n",
       "      <td>...</td>\n",
       "    </tr>\n",
       "    <tr>\n",
       "      <th>2055863</th>\n",
       "      <td>0.0</td>\n",
       "      <td>0.0</td>\n",
       "      <td>20.0</td>\n",
       "      <td>1126.0</td>\n",
       "      <td>2005.0</td>\n",
       "      <td>62.08</td>\n",
       "      <td>6037.0</td>\n",
       "    </tr>\n",
       "    <tr>\n",
       "      <th>2088114</th>\n",
       "      <td>0.0</td>\n",
       "      <td>0.0</td>\n",
       "      <td>20.0</td>\n",
       "      <td>7246.0</td>\n",
       "      <td>2005.0</td>\n",
       "      <td>135.02</td>\n",
       "      <td>6037.0</td>\n",
       "    </tr>\n",
       "    <tr>\n",
       "      <th>2098808</th>\n",
       "      <td>0.0</td>\n",
       "      <td>0.0</td>\n",
       "      <td>60.0</td>\n",
       "      <td>5763.0</td>\n",
       "      <td>2005.0</td>\n",
       "      <td>117.34</td>\n",
       "      <td>6037.0</td>\n",
       "    </tr>\n",
       "    <tr>\n",
       "      <th>2098812</th>\n",
       "      <td>0.0</td>\n",
       "      <td>0.0</td>\n",
       "      <td>20.0</td>\n",
       "      <td>2875.0</td>\n",
       "      <td>2005.0</td>\n",
       "      <td>82.92</td>\n",
       "      <td>6037.0</td>\n",
       "    </tr>\n",
       "    <tr>\n",
       "      <th>2131287</th>\n",
       "      <td>0.0</td>\n",
       "      <td>0.0</td>\n",
       "      <td>40.0</td>\n",
       "      <td>1059.0</td>\n",
       "      <td>2005.0</td>\n",
       "      <td>64.00</td>\n",
       "      <td>6037.0</td>\n",
       "    </tr>\n",
       "  </tbody>\n",
       "</table>\n",
       "<p>127 rows × 7 columns</p>\n",
       "</div>"
      ],
      "text/plain": [
       "         bedroomcnt  bathroomcnt  calculatedfinishedsquarefeet  \\\n",
       "3956            0.0          0.0                          99.0   \n",
       "32077           0.0          0.0                          60.0   \n",
       "39196           0.0          1.0                          78.0   \n",
       "53614           0.0          0.0                          20.0   \n",
       "58438           2.0          1.0                           1.0   \n",
       "...             ...          ...                           ...   \n",
       "2055863         0.0          0.0                          20.0   \n",
       "2088114         0.0          0.0                          20.0   \n",
       "2098808         0.0          0.0                          60.0   \n",
       "2098812         0.0          0.0                          20.0   \n",
       "2131287         0.0          0.0                          40.0   \n",
       "\n",
       "         taxvaluedollarcnt  yearbuilt  taxamount    fips  \n",
       "3956               36593.0     1940.0     542.00  6037.0  \n",
       "32077              11534.0     2005.0     186.12  6037.0  \n",
       "39196              52991.0     2009.0     866.12  6037.0  \n",
       "53614               1124.0     2005.0      62.05  6037.0  \n",
       "58438             121376.0     1907.0    1996.35  6037.0  \n",
       "...                    ...        ...        ...     ...  \n",
       "2055863             1126.0     2005.0      62.08  6037.0  \n",
       "2088114             7246.0     2005.0     135.02  6037.0  \n",
       "2098808             5763.0     2005.0     117.34  6037.0  \n",
       "2098812             2875.0     2005.0      82.92  6037.0  \n",
       "2131287             1059.0     2005.0      64.00  6037.0  \n",
       "\n",
       "[127 rows x 7 columns]"
      ]
     },
     "execution_count": 66,
     "metadata": {},
     "output_type": "execute_result"
    }
   ],
   "source": [
    "df[df.calculatedfinishedsquarefeet <= 100]"
   ]
  },
  {
   "cell_type": "code",
   "execution_count": 24,
   "id": "e6bb77b1",
   "metadata": {},
   "outputs": [
    {
     "name": "stdout",
     "output_type": "stream",
     "text": [
      "3     962638\n",
      "4     633362\n",
      "2     334078\n",
      "5     150598\n",
      "6      25104\n",
      "1      22752\n",
      "7       4791\n",
      "8       1102\n",
      "9        290\n",
      "10       118\n",
      "11        33\n",
      "13        15\n",
      "12        12\n",
      "14         6\n",
      "15         5\n",
      "16         2\n",
      "18         2\n",
      "25         1\n",
      "Name: bedroomcnt, dtype: int64\n",
      "2.00     942326\n",
      "3.00     422358\n",
      "1.00     411776\n",
      "2.50     142811\n",
      "4.00      82030\n",
      "1.50      31155\n",
      "3.50      28460\n",
      "5.00      28297\n",
      "4.50      19469\n",
      "6.00      10716\n",
      "5.50       6200\n",
      "7.00       4381\n",
      "8.00       1680\n",
      "6.50       1328\n",
      "9.00        705\n",
      "7.50        379\n",
      "10.00       321\n",
      "11.00       145\n",
      "8.50        108\n",
      "12.00        72\n",
      "9.50         49\n",
      "13.00        38\n",
      "14.00        23\n",
      "15.00        15\n",
      "10.50        14\n",
      "0.50         14\n",
      "16.00        11\n",
      "18.00         7\n",
      "20.00         5\n",
      "1.75          3\n",
      "17.00         3\n",
      "12.50         3\n",
      "11.50         3\n",
      "19.50         1\n",
      "14.50         1\n",
      "32.00         1\n",
      "19.00         1\n",
      "Name: bathroomcnt, dtype: int64\n",
      "1200     5164\n",
      "1080     4370\n",
      "1120     4335\n",
      "1400     3828\n",
      "1440     3672\n",
      "         ... \n",
      "179         1\n",
      "7320        1\n",
      "8575        1\n",
      "11022       1\n",
      "24920       1\n",
      "Name: calculatedfinishedsquarefeet, Length: 10399, dtype: int64\n",
      "450000     817\n",
      "500000     773\n",
      "400000     722\n",
      "430000     690\n",
      "440000     680\n",
      "          ... \n",
      "549913       1\n",
      "935833       1\n",
      "780386       1\n",
      "5729617      1\n",
      "536061       1\n",
      "Name: taxvaluedollarcnt, Length: 586498, dtype: int64\n",
      "1955    84196\n",
      "1950    71521\n",
      "1954    68956\n",
      "1953    62176\n",
      "1956    61744\n",
      "        ...  \n",
      "1855        1\n",
      "1879        1\n",
      "1833        1\n",
      "1840        1\n",
      "1874        1\n",
      "Name: yearbuilt, Length: 153, dtype: int64\n",
      "345.72      172\n",
      "344.18       76\n",
      "343.52       72\n",
      "49.18        46\n",
      "388.18       37\n",
      "           ... \n",
      "10756.22      1\n",
      "1786.48       1\n",
      "18682.42      1\n",
      "1743.64       1\n",
      "13494.52      1\n",
      "Name: taxamount, Length: 914036, dtype: int64\n",
      "6037    1421092\n",
      "6059     551714\n",
      "6111     162103\n",
      "Name: fips, dtype: int64\n"
     ]
    }
   ],
   "source": [
    "for col in df.columns:\n",
    "    print(df[col].value_counts())"
   ]
  },
  {
   "cell_type": "code",
   "execution_count": 36,
   "id": "f25e88f9",
   "metadata": {},
   "outputs": [
    {
     "data": {
      "text/html": [
       "<div>\n",
       "<style scoped>\n",
       "    .dataframe tbody tr th:only-of-type {\n",
       "        vertical-align: middle;\n",
       "    }\n",
       "\n",
       "    .dataframe tbody tr th {\n",
       "        vertical-align: top;\n",
       "    }\n",
       "\n",
       "    .dataframe thead th {\n",
       "        text-align: right;\n",
       "    }\n",
       "</style>\n",
       "<table border=\"1\" class=\"dataframe\">\n",
       "  <thead>\n",
       "    <tr style=\"text-align: right;\">\n",
       "      <th></th>\n",
       "      <th>bedroomcnt</th>\n",
       "      <th>bathroomcnt</th>\n",
       "      <th>calculatedfinishedsquarefeet</th>\n",
       "      <th>taxvaluedollarcnt</th>\n",
       "      <th>yearbuilt</th>\n",
       "      <th>taxamount</th>\n",
       "      <th>fips</th>\n",
       "    </tr>\n",
       "  </thead>\n",
       "  <tbody>\n",
       "    <tr>\n",
       "      <th>count</th>\n",
       "      <td>2.134907e+06</td>\n",
       "      <td>2.134907e+06</td>\n",
       "      <td>2.134907e+06</td>\n",
       "      <td>2.134907e+06</td>\n",
       "      <td>2.134907e+06</td>\n",
       "      <td>2.134907e+06</td>\n",
       "      <td>2.134907e+06</td>\n",
       "    </tr>\n",
       "    <tr>\n",
       "      <th>mean</th>\n",
       "      <td>3.308328e+00</td>\n",
       "      <td>2.245187e+00</td>\n",
       "      <td>1.863730e+03</td>\n",
       "      <td>4.608771e+05</td>\n",
       "      <td>1.960985e+03</td>\n",
       "      <td>5.619627e+03</td>\n",
       "      <td>6.048304e+03</td>\n",
       "    </tr>\n",
       "    <tr>\n",
       "      <th>std</th>\n",
       "      <td>9.211600e-01</td>\n",
       "      <td>9.858442e-01</td>\n",
       "      <td>9.632262e+02</td>\n",
       "      <td>6.746808e+05</td>\n",
       "      <td>2.213405e+01</td>\n",
       "      <td>7.784646e+03</td>\n",
       "      <td>2.032450e+01</td>\n",
       "    </tr>\n",
       "    <tr>\n",
       "      <th>min</th>\n",
       "      <td>1.000000e+00</td>\n",
       "      <td>5.000000e-01</td>\n",
       "      <td>1.000000e+00</td>\n",
       "      <td>2.200000e+01</td>\n",
       "      <td>1.801000e+03</td>\n",
       "      <td>1.648000e+01</td>\n",
       "      <td>6.037000e+03</td>\n",
       "    </tr>\n",
       "    <tr>\n",
       "      <th>25%</th>\n",
       "      <td>3.000000e+00</td>\n",
       "      <td>2.000000e+00</td>\n",
       "      <td>1.260000e+03</td>\n",
       "      <td>1.896280e+05</td>\n",
       "      <td>1.949000e+03</td>\n",
       "      <td>2.546700e+03</td>\n",
       "      <td>6.037000e+03</td>\n",
       "    </tr>\n",
       "    <tr>\n",
       "      <th>50%</th>\n",
       "      <td>3.000000e+00</td>\n",
       "      <td>2.000000e+00</td>\n",
       "      <td>1.624000e+03</td>\n",
       "      <td>3.288570e+05</td>\n",
       "      <td>1.958000e+03</td>\n",
       "      <td>4.116040e+03</td>\n",
       "      <td>6.037000e+03</td>\n",
       "    </tr>\n",
       "    <tr>\n",
       "      <th>75%</th>\n",
       "      <td>4.000000e+00</td>\n",
       "      <td>3.000000e+00</td>\n",
       "      <td>2.209000e+03</td>\n",
       "      <td>5.350000e+05</td>\n",
       "      <td>1.976000e+03</td>\n",
       "      <td>6.415760e+03</td>\n",
       "      <td>6.059000e+03</td>\n",
       "    </tr>\n",
       "    <tr>\n",
       "      <th>max</th>\n",
       "      <td>2.500000e+01</td>\n",
       "      <td>3.200000e+01</td>\n",
       "      <td>5.922000e+04</td>\n",
       "      <td>9.018846e+07</td>\n",
       "      <td>2.016000e+03</td>\n",
       "      <td>1.078102e+06</td>\n",
       "      <td>6.111000e+03</td>\n",
       "    </tr>\n",
       "  </tbody>\n",
       "</table>\n",
       "</div>"
      ],
      "text/plain": [
       "         bedroomcnt   bathroomcnt  calculatedfinishedsquarefeet  \\\n",
       "count  2.134907e+06  2.134907e+06                  2.134907e+06   \n",
       "mean   3.308328e+00  2.245187e+00                  1.863730e+03   \n",
       "std    9.211600e-01  9.858442e-01                  9.632262e+02   \n",
       "min    1.000000e+00  5.000000e-01                  1.000000e+00   \n",
       "25%    3.000000e+00  2.000000e+00                  1.260000e+03   \n",
       "50%    3.000000e+00  2.000000e+00                  1.624000e+03   \n",
       "75%    4.000000e+00  3.000000e+00                  2.209000e+03   \n",
       "max    2.500000e+01  3.200000e+01                  5.922000e+04   \n",
       "\n",
       "       taxvaluedollarcnt     yearbuilt     taxamount          fips  \n",
       "count       2.134907e+06  2.134907e+06  2.134907e+06  2.134907e+06  \n",
       "mean        4.608771e+05  1.960985e+03  5.619627e+03  6.048304e+03  \n",
       "std         6.746808e+05  2.213405e+01  7.784646e+03  2.032450e+01  \n",
       "min         2.200000e+01  1.801000e+03  1.648000e+01  6.037000e+03  \n",
       "25%         1.896280e+05  1.949000e+03  2.546700e+03  6.037000e+03  \n",
       "50%         3.288570e+05  1.958000e+03  4.116040e+03  6.037000e+03  \n",
       "75%         5.350000e+05  1.976000e+03  6.415760e+03  6.059000e+03  \n",
       "max         9.018846e+07  2.016000e+03  1.078102e+06  6.111000e+03  "
      ]
     },
     "execution_count": 36,
     "metadata": {},
     "output_type": "execute_result"
    }
   ],
   "source": [
    "df.describe()"
   ]
  },
  {
   "cell_type": "code",
   "execution_count": 33,
   "id": "01db43ca",
   "metadata": {},
   "outputs": [
    {
     "name": "stdout",
     "output_type": "stream",
     "text": [
      "distribution of bedroomcnt\n"
     ]
    },
    {
     "data": {
      "image/png": "[encoded data removed]",
      "text/plain": [
       "<Figure size 640x480 with 1 Axes>"
      ]
     },
     "metadata": {},
     "output_type": "display_data"
    },
    {
     "name": "stdout",
     "output_type": "stream",
     "text": [
      "distribution of bathroomcnt\n"
     ]
    },
    {
     "data": {
      "image/png": "[encoded data removed]",
      "text/plain": [
       "<Figure size 640x480 with 1 Axes>"
      ]
     },
     "metadata": {},
     "output_type": "display_data"
    },
    {
     "name": "stdout",
     "output_type": "stream",
     "text": [
      "distribution of calculatedfinishedsquarefeet\n"
     ]
    },
    {
     "data": {
      "image/png": "[encoded data removed]",
      "text/plain": [
       "<Figure size 640x480 with 1 Axes>"
      ]
     },
     "metadata": {},
     "output_type": "display_data"
    },
    {
     "name": "stdout",
     "output_type": "stream",
     "text": [
      "distribution of taxvaluedollarcnt\n"
     ]
    },
    {
     "data": {
      "image/png": "[encoded data removed]",
      "text/plain": [
       "<Figure size 640x480 with 1 Axes>"
      ]
     },
     "metadata": {},
     "output_type": "display_data"
    },
    {
     "name": "stdout",
     "output_type": "stream",
     "text": [
      "distribution of yearbuilt\n"
     ]
    },
    {
     "data": {
      "image/png": "[encoded data removed]",
      "text/plain": [
       "<Figure size 640x480 with 1 Axes>"
      ]
     },
     "metadata": {},
     "output_type": "display_data"
    },
    {
     "name": "stdout",
     "output_type": "stream",
     "text": [
      "distribution of taxamount\n"
     ]
    },
    {
     "data": {
      "image/png": "[encoded data removed]",
      "text/plain": [
       "<Figure size 640x480 with 1 Axes>"
      ]
     },
     "metadata": {},
     "output_type": "display_data"
    },
    {
     "name": "stdout",
     "output_type": "stream",
     "text": [
      "distribution of fips\n"
     ]
    },
    {
     "data": {
      "image/png": "[encoded data removed]",
      "text/plain": [
       "<Figure size 640x480 with 1 Axes>"
      ]
     },
     "metadata": {},
     "output_type": "display_data"
    }
   ],
   "source": [
    "for col in df:\n",
    "    print(f'distribution of {col}')\n",
    "    plt.hist(data=df, x=col)\n",
    "    plt.show()"
   ]
  },
  {
   "cell_type": "code",
   "execution_count": 34,
   "id": "c6c87026",
   "metadata": {},
   "outputs": [
    {
     "name": "stdout",
     "output_type": "stream",
     "text": [
      "distribution of bedroomcnt\n"
     ]
    },
    {
     "data": {
      "image/png": "[encoded data removed]",
      "text/plain": [
       "<Figure size 640x480 with 1 Axes>"
      ]
     },
     "metadata": {},
     "output_type": "display_data"
    },
    {
     "name": "stdout",
     "output_type": "stream",
     "text": [
      "distribution of bathroomcnt\n"
     ]
    },
    {
     "data": {
      "image/png": "[encoded data removed]",
      "text/plain": [
       "<Figure size 640x480 with 1 Axes>"
      ]
     },
     "metadata": {},
     "output_type": "display_data"
    },
    {
     "name": "stdout",
     "output_type": "stream",
     "text": [
      "distribution of calculatedfinishedsquarefeet\n"
     ]
    },
    {
     "data": {
      "image/png": "[encoded data removed]",
      "text/plain": [
       "<Figure size 640x480 with 1 Axes>"
      ]
     },
     "metadata": {},
     "output_type": "display_data"
    },
    {
     "name": "stdout",
     "output_type": "stream",
     "text": [
      "distribution of taxvaluedollarcnt\n"
     ]
    },
    {
     "data": {
      "image/png": "[encoded data removed]",
      "text/plain": [
       "<Figure size 640x480 with 1 Axes>"
      ]
     },
     "metadata": {},
     "output_type": "display_data"
    },
    {
     "name": "stdout",
     "output_type": "stream",
     "text": [
      "distribution of yearbuilt\n"
     ]
    },
    {
     "data": {
      "image/png": "[encoded data removed]",
      "text/plain": [
       "<Figure size 640x480 with 1 Axes>"
      ]
     },
     "metadata": {},
     "output_type": "display_data"
    },
    {
     "name": "stdout",
     "output_type": "stream",
     "text": [
      "distribution of taxamount\n"
     ]
    },
    {
     "data": {
      "image/png": "[encoded data removed]",
      "text/plain": [
       "<Figure size 640x480 with 1 Axes>"
      ]
     },
     "metadata": {},
     "output_type": "display_data"
    },
    {
     "name": "stdout",
     "output_type": "stream",
     "text": [
      "distribution of fips\n"
     ]
    },
    {
     "data": {
      "image/png": "[encoded data removed]",
      "text/plain": [
       "<Figure size 640x480 with 1 Axes>"
      ]
     },
     "metadata": {},
     "output_type": "display_data"
    }
   ],
   "source": [
    "for col in df:\n",
    "    print(f'distribution of {col}')\n",
    "    sns.boxplot(data=df, x=col)\n",
    "    plt.show()"
   ]
  },
  {
   "cell_type": "code",
   "execution_count": 28,
   "id": "f46d6e10",
   "metadata": {},
   "outputs": [
    {
     "data": {
      "text/html": [
       "<div>\n",
       "<style scoped>\n",
       "    .dataframe tbody tr th:only-of-type {\n",
       "        vertical-align: middle;\n",
       "    }\n",
       "\n",
       "    .dataframe tbody tr th {\n",
       "        vertical-align: top;\n",
       "    }\n",
       "\n",
       "    .dataframe thead th {\n",
       "        text-align: right;\n",
       "    }\n",
       "</style>\n",
       "<table border=\"1\" class=\"dataframe\">\n",
       "  <thead>\n",
       "    <tr style=\"text-align: right;\">\n",
       "      <th></th>\n",
       "      <th>bedroomcnt</th>\n",
       "      <th>bathroomcnt</th>\n",
       "      <th>calculatedfinishedsquarefeet</th>\n",
       "      <th>taxvaluedollarcnt</th>\n",
       "      <th>yearbuilt</th>\n",
       "      <th>taxamount</th>\n",
       "      <th>fips</th>\n",
       "    </tr>\n",
       "  </thead>\n",
       "  <tbody>\n",
       "    <tr>\n",
       "      <th>4</th>\n",
       "      <td>4</td>\n",
       "      <td>2.0</td>\n",
       "      <td>3633</td>\n",
       "      <td>296425</td>\n",
       "      <td>2005</td>\n",
       "      <td>6941.39</td>\n",
       "      <td>6037</td>\n",
       "    </tr>\n",
       "    <tr>\n",
       "      <th>6</th>\n",
       "      <td>3</td>\n",
       "      <td>4.0</td>\n",
       "      <td>1620</td>\n",
       "      <td>847770</td>\n",
       "      <td>2011</td>\n",
       "      <td>10244.94</td>\n",
       "      <td>6037</td>\n",
       "    </tr>\n",
       "    <tr>\n",
       "      <th>7</th>\n",
       "      <td>3</td>\n",
       "      <td>2.0</td>\n",
       "      <td>2077</td>\n",
       "      <td>646760</td>\n",
       "      <td>1926</td>\n",
       "      <td>7924.68</td>\n",
       "      <td>6037</td>\n",
       "    </tr>\n",
       "    <tr>\n",
       "      <th>18</th>\n",
       "      <td>3</td>\n",
       "      <td>1.0</td>\n",
       "      <td>1244</td>\n",
       "      <td>169471</td>\n",
       "      <td>1950</td>\n",
       "      <td>2532.88</td>\n",
       "      <td>6037</td>\n",
       "    </tr>\n",
       "    <tr>\n",
       "      <th>19</th>\n",
       "      <td>3</td>\n",
       "      <td>2.0</td>\n",
       "      <td>1300</td>\n",
       "      <td>233266</td>\n",
       "      <td>1950</td>\n",
       "      <td>3110.99</td>\n",
       "      <td>6037</td>\n",
       "    </tr>\n",
       "    <tr>\n",
       "      <th>...</th>\n",
       "      <td>...</td>\n",
       "      <td>...</td>\n",
       "      <td>...</td>\n",
       "      <td>...</td>\n",
       "      <td>...</td>\n",
       "      <td>...</td>\n",
       "      <td>...</td>\n",
       "    </tr>\n",
       "    <tr>\n",
       "      <th>2152856</th>\n",
       "      <td>4</td>\n",
       "      <td>4.0</td>\n",
       "      <td>4375</td>\n",
       "      <td>422400</td>\n",
       "      <td>2015</td>\n",
       "      <td>13877.56</td>\n",
       "      <td>6037</td>\n",
       "    </tr>\n",
       "    <tr>\n",
       "      <th>2152858</th>\n",
       "      <td>4</td>\n",
       "      <td>3.0</td>\n",
       "      <td>2262</td>\n",
       "      <td>960756</td>\n",
       "      <td>2015</td>\n",
       "      <td>13494.52</td>\n",
       "      <td>6059</td>\n",
       "    </tr>\n",
       "    <tr>\n",
       "      <th>2152859</th>\n",
       "      <td>4</td>\n",
       "      <td>4.5</td>\n",
       "      <td>3127</td>\n",
       "      <td>536061</td>\n",
       "      <td>2014</td>\n",
       "      <td>6244.16</td>\n",
       "      <td>6059</td>\n",
       "    </tr>\n",
       "    <tr>\n",
       "      <th>2152861</th>\n",
       "      <td>3</td>\n",
       "      <td>2.5</td>\n",
       "      <td>1974</td>\n",
       "      <td>424353</td>\n",
       "      <td>2015</td>\n",
       "      <td>5302.70</td>\n",
       "      <td>6059</td>\n",
       "    </tr>\n",
       "    <tr>\n",
       "      <th>2152862</th>\n",
       "      <td>4</td>\n",
       "      <td>4.0</td>\n",
       "      <td>2110</td>\n",
       "      <td>554009</td>\n",
       "      <td>2014</td>\n",
       "      <td>6761.20</td>\n",
       "      <td>6037</td>\n",
       "    </tr>\n",
       "  </tbody>\n",
       "</table>\n",
       "<p>2134908 rows × 7 columns</p>\n",
       "</div>"
      ],
      "text/plain": [
       "         bedroomcnt  bathroomcnt  calculatedfinishedsquarefeet  \\\n",
       "4                 4          2.0                          3633   \n",
       "6                 3          4.0                          1620   \n",
       "7                 3          2.0                          2077   \n",
       "18                3          1.0                          1244   \n",
       "19                3          2.0                          1300   \n",
       "...             ...          ...                           ...   \n",
       "2152856           4          4.0                          4375   \n",
       "2152858           4          3.0                          2262   \n",
       "2152859           4          4.5                          3127   \n",
       "2152861           3          2.5                          1974   \n",
       "2152862           4          4.0                          2110   \n",
       "\n",
       "         taxvaluedollarcnt  yearbuilt  taxamount  fips  \n",
       "4                   296425       2005    6941.39  6037  \n",
       "6                   847770       2011   10244.94  6037  \n",
       "7                   646760       1926    7924.68  6037  \n",
       "18                  169471       1950    2532.88  6037  \n",
       "19                  233266       1950    3110.99  6037  \n",
       "...                    ...        ...        ...   ...  \n",
       "2152856             422400       2015   13877.56  6037  \n",
       "2152858             960756       2015   13494.52  6059  \n",
       "2152859             536061       2014    6244.16  6059  \n",
       "2152861             424353       2015    5302.70  6059  \n",
       "2152862             554009       2014    6761.20  6037  \n",
       "\n",
       "[2134908 rows x 7 columns]"
      ]
     },
     "execution_count": 28,
     "metadata": {},
     "output_type": "execute_result"
    }
   ],
   "source": [
    "df.drop(df.calculatedfinishedsquarefeet.max())"
   ]
  },
  {
   "cell_type": "code",
   "execution_count": 115,
   "id": "a6d7f9ea",
   "metadata": {},
   "outputs": [],
   "source": [
    "# outliers are aything beyond 1.5 times the inner quartile range from the mean\n",
    "low_outliers = df.calculatedfinishedsquarefeet.mean() - (\n",
    "    # iqr is quantile(.75) - quantile(.25)\n",
    "    (df.calculatedfinishedsquarefeet.quantile(.75)\n",
    " - df.calculatedfinishedsquarefeet.quantile(.25))\n",
    "    # times 1.5\n",
    "* 1.5)"
   ]
  },
  {
   "cell_type": "code",
   "execution_count": 116,
   "id": "c17aa2d0",
   "metadata": {},
   "outputs": [
    {
     "data": {
      "text/html": [
       "<div>\n",
       "<style scoped>\n",
       "    .dataframe tbody tr th:only-of-type {\n",
       "        vertical-align: middle;\n",
       "    }\n",
       "\n",
       "    .dataframe tbody tr th {\n",
       "        vertical-align: top;\n",
       "    }\n",
       "\n",
       "    .dataframe thead th {\n",
       "        text-align: right;\n",
       "    }\n",
       "</style>\n",
       "<table border=\"1\" class=\"dataframe\">\n",
       "  <thead>\n",
       "    <tr style=\"text-align: right;\">\n",
       "      <th></th>\n",
       "      <th>bedroomcnt</th>\n",
       "      <th>bathroomcnt</th>\n",
       "      <th>calculatedfinishedsquarefeet</th>\n",
       "      <th>taxvaluedollarcnt</th>\n",
       "      <th>yearbuilt</th>\n",
       "      <th>taxamount</th>\n",
       "      <th>fips</th>\n",
       "    </tr>\n",
       "  </thead>\n",
       "  <tbody>\n",
       "    <tr>\n",
       "      <th>14</th>\n",
       "      <td>0</td>\n",
       "      <td>0.0</td>\n",
       "      <td>171</td>\n",
       "      <td>6920</td>\n",
       "      <td>1973</td>\n",
       "      <td>255.17</td>\n",
       "      <td>6037</td>\n",
       "    </tr>\n",
       "    <tr>\n",
       "      <th>15</th>\n",
       "      <td>0</td>\n",
       "      <td>0.0</td>\n",
       "      <td>203</td>\n",
       "      <td>14166</td>\n",
       "      <td>1960</td>\n",
       "      <td>163.79</td>\n",
       "      <td>6037</td>\n",
       "    </tr>\n",
       "    <tr>\n",
       "      <th>392</th>\n",
       "      <td>1</td>\n",
       "      <td>1.0</td>\n",
       "      <td>371</td>\n",
       "      <td>358040</td>\n",
       "      <td>1953</td>\n",
       "      <td>4047.24</td>\n",
       "      <td>6111</td>\n",
       "    </tr>\n",
       "    <tr>\n",
       "      <th>866</th>\n",
       "      <td>0</td>\n",
       "      <td>0.0</td>\n",
       "      <td>220</td>\n",
       "      <td>13840</td>\n",
       "      <td>1988</td>\n",
       "      <td>327.80</td>\n",
       "      <td>6037</td>\n",
       "    </tr>\n",
       "    <tr>\n",
       "      <th>1546</th>\n",
       "      <td>1</td>\n",
       "      <td>0.0</td>\n",
       "      <td>400</td>\n",
       "      <td>47682</td>\n",
       "      <td>1913</td>\n",
       "      <td>764.58</td>\n",
       "      <td>6037</td>\n",
       "    </tr>\n",
       "    <tr>\n",
       "      <th>...</th>\n",
       "      <td>...</td>\n",
       "      <td>...</td>\n",
       "      <td>...</td>\n",
       "      <td>...</td>\n",
       "      <td>...</td>\n",
       "      <td>...</td>\n",
       "      <td>...</td>\n",
       "    </tr>\n",
       "    <tr>\n",
       "      <th>2148704</th>\n",
       "      <td>1</td>\n",
       "      <td>1.0</td>\n",
       "      <td>396</td>\n",
       "      <td>100903</td>\n",
       "      <td>1926</td>\n",
       "      <td>1513.09</td>\n",
       "      <td>6037</td>\n",
       "    </tr>\n",
       "    <tr>\n",
       "      <th>2151106</th>\n",
       "      <td>1</td>\n",
       "      <td>1.0</td>\n",
       "      <td>364</td>\n",
       "      <td>262581</td>\n",
       "      <td>1923</td>\n",
       "      <td>3895.26</td>\n",
       "      <td>6059</td>\n",
       "    </tr>\n",
       "    <tr>\n",
       "      <th>2151361</th>\n",
       "      <td>1</td>\n",
       "      <td>1.0</td>\n",
       "      <td>384</td>\n",
       "      <td>263965</td>\n",
       "      <td>1922</td>\n",
       "      <td>3291.26</td>\n",
       "      <td>6059</td>\n",
       "    </tr>\n",
       "    <tr>\n",
       "      <th>2152237</th>\n",
       "      <td>1</td>\n",
       "      <td>1.0</td>\n",
       "      <td>400</td>\n",
       "      <td>175263</td>\n",
       "      <td>1932</td>\n",
       "      <td>2136.01</td>\n",
       "      <td>6037</td>\n",
       "    </tr>\n",
       "    <tr>\n",
       "      <th>2152505</th>\n",
       "      <td>0</td>\n",
       "      <td>0.0</td>\n",
       "      <td>240</td>\n",
       "      <td>31234</td>\n",
       "      <td>1942</td>\n",
       "      <td>414.04</td>\n",
       "      <td>6037</td>\n",
       "    </tr>\n",
       "  </tbody>\n",
       "</table>\n",
       "<p>2909 rows × 7 columns</p>\n",
       "</div>"
      ],
      "text/plain": [
       "         bedroomcnt  bathroomcnt  calculatedfinishedsquarefeet  \\\n",
       "14                0          0.0                           171   \n",
       "15                0          0.0                           203   \n",
       "392               1          1.0                           371   \n",
       "866               0          0.0                           220   \n",
       "1546              1          0.0                           400   \n",
       "...             ...          ...                           ...   \n",
       "2148704           1          1.0                           396   \n",
       "2151106           1          1.0                           364   \n",
       "2151361           1          1.0                           384   \n",
       "2152237           1          1.0                           400   \n",
       "2152505           0          0.0                           240   \n",
       "\n",
       "         taxvaluedollarcnt  yearbuilt  taxamount  fips  \n",
       "14                    6920       1973     255.17  6037  \n",
       "15                   14166       1960     163.79  6037  \n",
       "392                 358040       1953    4047.24  6111  \n",
       "866                  13840       1988     327.80  6037  \n",
       "1546                 47682       1913     764.58  6037  \n",
       "...                    ...        ...        ...   ...  \n",
       "2148704             100903       1926    1513.09  6037  \n",
       "2151106             262581       1923    3895.26  6059  \n",
       "2151361             263965       1922    3291.26  6059  \n",
       "2152237             175263       1932    2136.01  6037  \n",
       "2152505              31234       1942     414.04  6037  \n",
       "\n",
       "[2909 rows x 7 columns]"
      ]
     },
     "execution_count": 116,
     "metadata": {},
     "output_type": "execute_result"
    }
   ],
   "source": [
    "df[(df.calculatedfinishedsquarefeet <= low_outliers)  ]"
   ]
  },
  {
   "cell_type": "code",
   "execution_count": 117,
   "id": "dcf33c2d",
   "metadata": {
    "scrolled": true
   },
   "outputs": [
    {
     "data": {
      "text/plain": [
       "438"
      ]
     },
     "execution_count": 117,
     "metadata": {},
     "output_type": "execute_result"
    }
   ],
   "source": [
    "df[(df.calculatedfinishedsquarefeet <= low_outliers)  ].calculatedfinishedsquarefeet.max()"
   ]
  },
  {
   "cell_type": "code",
   "execution_count": 119,
   "id": "768cd23d",
   "metadata": {},
   "outputs": [
    {
     "data": {
      "text/plain": [
       "0.0013512239283224247"
      ]
     },
     "execution_count": 119,
     "metadata": {},
     "output_type": "execute_result"
    }
   ],
   "source": [
    "2909 / 2152863"
   ]
  },
  {
   "cell_type": "markdown",
   "id": "85802d70",
   "metadata": {},
   "source": [
    "according to our formula of considering anything less than 1.5 times the inner quartile range below the mean to be an outlier, anything less than 436 sq feet (about 22x20 ft) is an outlier, this is 0.14% of our total dataset."
   ]
  },
  {
   "cell_type": "code",
   "execution_count": 120,
   "id": "4c62bdae",
   "metadata": {},
   "outputs": [],
   "source": [
    "# outliers are aything beyond 1.5 times the inner quartile range from the mean\n",
    "high_outliers = df.calculatedfinishedsquarefeet.mean() + (\n",
    "    # iqr is quantile(.75) - quantile(.25)\n",
    "    (df.calculatedfinishedsquarefeet.quantile(.75)\n",
    " - df.calculatedfinishedsquarefeet.quantile(.25))\n",
    "    # times 1.5\n",
    "* 1.5)"
   ]
  },
  {
   "cell_type": "code",
   "execution_count": 126,
   "id": "63413e63",
   "metadata": {},
   "outputs": [
    {
     "data": {
      "text/html": [
       "<div>\n",
       "<style scoped>\n",
       "    .dataframe tbody tr th:only-of-type {\n",
       "        vertical-align: middle;\n",
       "    }\n",
       "\n",
       "    .dataframe tbody tr th {\n",
       "        vertical-align: top;\n",
       "    }\n",
       "\n",
       "    .dataframe thead th {\n",
       "        text-align: right;\n",
       "    }\n",
       "</style>\n",
       "<table border=\"1\" class=\"dataframe\">\n",
       "  <thead>\n",
       "    <tr style=\"text-align: right;\">\n",
       "      <th></th>\n",
       "      <th>bedroomcnt</th>\n",
       "      <th>bathroomcnt</th>\n",
       "      <th>calculatedfinishedsquarefeet</th>\n",
       "      <th>taxvaluedollarcnt</th>\n",
       "      <th>yearbuilt</th>\n",
       "      <th>taxamount</th>\n",
       "      <th>fips</th>\n",
       "    </tr>\n",
       "  </thead>\n",
       "  <tbody>\n",
       "    <tr>\n",
       "      <th>6</th>\n",
       "      <td>3</td>\n",
       "      <td>4.0</td>\n",
       "      <td>1620</td>\n",
       "      <td>847770</td>\n",
       "      <td>2011</td>\n",
       "      <td>10244.94</td>\n",
       "      <td>6037</td>\n",
       "    </tr>\n",
       "    <tr>\n",
       "      <th>7</th>\n",
       "      <td>3</td>\n",
       "      <td>2.0</td>\n",
       "      <td>2077</td>\n",
       "      <td>646760</td>\n",
       "      <td>1926</td>\n",
       "      <td>7924.68</td>\n",
       "      <td>6037</td>\n",
       "    </tr>\n",
       "    <tr>\n",
       "      <th>11</th>\n",
       "      <td>0</td>\n",
       "      <td>0.0</td>\n",
       "      <td>1200</td>\n",
       "      <td>5328</td>\n",
       "      <td>1972</td>\n",
       "      <td>91.60</td>\n",
       "      <td>6037</td>\n",
       "    </tr>\n",
       "    <tr>\n",
       "      <th>14</th>\n",
       "      <td>0</td>\n",
       "      <td>0.0</td>\n",
       "      <td>171</td>\n",
       "      <td>6920</td>\n",
       "      <td>1973</td>\n",
       "      <td>255.17</td>\n",
       "      <td>6037</td>\n",
       "    </tr>\n",
       "    <tr>\n",
       "      <th>15</th>\n",
       "      <td>0</td>\n",
       "      <td>0.0</td>\n",
       "      <td>203</td>\n",
       "      <td>14166</td>\n",
       "      <td>1960</td>\n",
       "      <td>163.79</td>\n",
       "      <td>6037</td>\n",
       "    </tr>\n",
       "    <tr>\n",
       "      <th>...</th>\n",
       "      <td>...</td>\n",
       "      <td>...</td>\n",
       "      <td>...</td>\n",
       "      <td>...</td>\n",
       "      <td>...</td>\n",
       "      <td>...</td>\n",
       "      <td>...</td>\n",
       "    </tr>\n",
       "    <tr>\n",
       "      <th>2152855</th>\n",
       "      <td>3</td>\n",
       "      <td>2.5</td>\n",
       "      <td>1809</td>\n",
       "      <td>405547</td>\n",
       "      <td>2012</td>\n",
       "      <td>4181.10</td>\n",
       "      <td>6059</td>\n",
       "    </tr>\n",
       "    <tr>\n",
       "      <th>2152858</th>\n",
       "      <td>4</td>\n",
       "      <td>3.0</td>\n",
       "      <td>2262</td>\n",
       "      <td>960756</td>\n",
       "      <td>2015</td>\n",
       "      <td>13494.52</td>\n",
       "      <td>6059</td>\n",
       "    </tr>\n",
       "    <tr>\n",
       "      <th>2152859</th>\n",
       "      <td>4</td>\n",
       "      <td>4.5</td>\n",
       "      <td>3127</td>\n",
       "      <td>536061</td>\n",
       "      <td>2014</td>\n",
       "      <td>6244.16</td>\n",
       "      <td>6059</td>\n",
       "    </tr>\n",
       "    <tr>\n",
       "      <th>2152861</th>\n",
       "      <td>3</td>\n",
       "      <td>2.5</td>\n",
       "      <td>1974</td>\n",
       "      <td>424353</td>\n",
       "      <td>2015</td>\n",
       "      <td>5302.70</td>\n",
       "      <td>6059</td>\n",
       "    </tr>\n",
       "    <tr>\n",
       "      <th>2152862</th>\n",
       "      <td>4</td>\n",
       "      <td>4.0</td>\n",
       "      <td>2110</td>\n",
       "      <td>554009</td>\n",
       "      <td>2014</td>\n",
       "      <td>6761.20</td>\n",
       "      <td>6037</td>\n",
       "    </tr>\n",
       "  </tbody>\n",
       "</table>\n",
       "<p>1998121 rows × 7 columns</p>\n",
       "</div>"
      ],
      "text/plain": [
       "         bedroomcnt  bathroomcnt  calculatedfinishedsquarefeet  \\\n",
       "6                 3          4.0                          1620   \n",
       "7                 3          2.0                          2077   \n",
       "11                0          0.0                          1200   \n",
       "14                0          0.0                           171   \n",
       "15                0          0.0                           203   \n",
       "...             ...          ...                           ...   \n",
       "2152855           3          2.5                          1809   \n",
       "2152858           4          3.0                          2262   \n",
       "2152859           4          4.5                          3127   \n",
       "2152861           3          2.5                          1974   \n",
       "2152862           4          4.0                          2110   \n",
       "\n",
       "         taxvaluedollarcnt  yearbuilt  taxamount  fips  \n",
       "6                   847770       2011   10244.94  6037  \n",
       "7                   646760       1926    7924.68  6037  \n",
       "11                    5328       1972      91.60  6037  \n",
       "14                    6920       1973     255.17  6037  \n",
       "15                   14166       1960     163.79  6037  \n",
       "...                    ...        ...        ...   ...  \n",
       "2152855             405547       2012    4181.10  6059  \n",
       "2152858             960756       2015   13494.52  6059  \n",
       "2152859             536061       2014    6244.16  6059  \n",
       "2152861             424353       2015    5302.70  6059  \n",
       "2152862             554009       2014    6761.20  6037  \n",
       "\n",
       "[1998121 rows x 7 columns]"
      ]
     },
     "execution_count": 126,
     "metadata": {},
     "output_type": "execute_result"
    }
   ],
   "source": [
    "df[~(df.calculatedfinishedsquarefeet >= high_outliers)]"
   ]
  },
  {
   "cell_type": "code",
   "execution_count": 122,
   "id": "fa983ef6",
   "metadata": {},
   "outputs": [
    {
     "data": {
      "text/plain": [
       "0.066011631952428"
      ]
     },
     "execution_count": 122,
     "metadata": {},
     "output_type": "execute_result"
    }
   ],
   "source": [
    "142114 / 2152863"
   ]
  },
  {
   "cell_type": "code",
   "execution_count": 92,
   "id": "a71c2839",
   "metadata": {},
   "outputs": [
    {
     "data": {
      "text/plain": [
       "57.719298245614034"
      ]
     },
     "execution_count": 92,
     "metadata": {},
     "output_type": "execute_result"
    }
   ],
   "source": [
    "3290 / 57"
   ]
  },
  {
   "cell_type": "code",
   "execution_count": 84,
   "id": "7494ecee",
   "metadata": {
    "scrolled": true
   },
   "outputs": [
    {
     "data": {
      "text/plain": [
       "3290.0"
      ]
     },
     "execution_count": 84,
     "metadata": {},
     "output_type": "execute_result"
    }
   ],
   "source": [
    "df[(df.calculatedfinishedsquarefeet >= high_outliers)  ].calculatedfinishedsquarefeet.min()"
   ]
  },
  {
   "cell_type": "markdown",
   "id": "ef57fb7f",
   "metadata": {},
   "source": [
    "according to our formula of considering anything more than 1.5 times the inner quartile range above the mean to be an outlier, anything more than 3,290 sq feet (about 57x58 ft) is an outlier, this is 6.6% of our total dataset. the calculated square feet is definitely right skewed."
   ]
  },
  {
   "cell_type": "code",
   "execution_count": 123,
   "id": "5587e1da",
   "metadata": {},
   "outputs": [
    {
     "data": {
      "text/plain": [
       "bedroomcnt                      0\n",
       "bathroomcnt                     0\n",
       "calculatedfinishedsquarefeet    0\n",
       "taxvaluedollarcnt               0\n",
       "yearbuilt                       0\n",
       "taxamount                       0\n",
       "fips                            0\n",
       "dtype: int64"
      ]
     },
     "execution_count": 123,
     "metadata": {},
     "output_type": "execute_result"
    }
   ],
   "source": [
    "df.isna().sum()"
   ]
  },
  {
   "cell_type": "code",
   "execution_count": 131,
   "id": "a8552d86",
   "metadata": {},
   "outputs": [],
   "source": [
    "mask = ((df.calculatedfinishedsquarefeet <= low_outliers) | \n",
    "          (df.calculatedfinishedsquarefeet >= high_outliers))\n",
    "outliers_removed = df[~mask]"
   ]
  },
  {
   "cell_type": "code",
   "execution_count": 132,
   "id": "2b3cf1ef",
   "metadata": {},
   "outputs": [
    {
     "name": "stdout",
     "output_type": "stream",
     "text": [
      "distribution of bedroomcnt\n"
     ]
    },
    {
     "data": {
      "image/png": "[encoded data removed]",
      "text/plain": [
       "<Figure size 640x480 with 1 Axes>"
      ]
     },
     "metadata": {},
     "output_type": "display_data"
    },
    {
     "name": "stdout",
     "output_type": "stream",
     "text": [
      "distribution of bathroomcnt\n"
     ]
    },
    {
     "data": {
      "image/png": "[encoded data removed]",
      "text/plain": [
       "<Figure size 640x480 with 1 Axes>"
      ]
     },
     "metadata": {},
     "output_type": "display_data"
    },
    {
     "name": "stdout",
     "output_type": "stream",
     "text": [
      "distribution of calculatedfinishedsquarefeet\n"
     ]
    },
    {
     "data": {
      "image/png": "[encoded data removed]",
      "text/plain": [
       "<Figure size 640x480 with 1 Axes>"
      ]
     },
     "metadata": {},
     "output_type": "display_data"
    },
    {
     "name": "stdout",
     "output_type": "stream",
     "text": [
      "distribution of taxvaluedollarcnt\n"
     ]
    },
    {
     "data": {
      "image/png": "[encoded data removed]",
      "text/plain": [
       "<Figure size 640x480 with 1 Axes>"
      ]
     },
     "metadata": {},
     "output_type": "display_data"
    },
    {
     "name": "stdout",
     "output_type": "stream",
     "text": [
      "distribution of yearbuilt\n"
     ]
    },
    {
     "data": {
      "image/png": "[encoded data removed]",
      "text/plain": [
       "<Figure size 640x480 with 1 Axes>"
      ]
     },
     "metadata": {},
     "output_type": "display_data"
    },
    {
     "name": "stdout",
     "output_type": "stream",
     "text": [
      "distribution of taxamount\n"
     ]
    },
    {
     "data": {
      "image/png": "[encoded data removed]",
      "text/plain": [
       "<Figure size 640x480 with 1 Axes>"
      ]
     },
     "metadata": {},
     "output_type": "display_data"
    },
    {
     "name": "stdout",
     "output_type": "stream",
     "text": [
      "distribution of fips\n"
     ]
    },
    {
     "data": {
      "image/png": "[encoded data removed]",
      "text/plain": [
       "<Figure size 640x480 with 1 Axes>"
      ]
     },
     "metadata": {},
     "output_type": "display_data"
    }
   ],
   "source": [
    "for col in outliers_removed:\n",
    "    print(f'distribution of {col}')\n",
    "    plt.hist(data=outliers_removed, x=col)\n",
    "    plt.show()"
   ]
  },
  {
   "cell_type": "code",
   "execution_count": 133,
   "id": "3f1b893b",
   "metadata": {},
   "outputs": [
    {
     "name": "stdout",
     "output_type": "stream",
     "text": [
      "distribution of bedroomcnt\n"
     ]
    },
    {
     "data": {
      "image/png": "[encoded data removed]",
      "text/plain": [
       "<Figure size 640x480 with 1 Axes>"
      ]
     },
     "metadata": {},
     "output_type": "display_data"
    },
    {
     "name": "stdout",
     "output_type": "stream",
     "text": [
      "distribution of bathroomcnt\n"
     ]
    },
    {
     "data": {
      "image/png": "[encoded data removed]",
      "text/plain": [
       "<Figure size 640x480 with 1 Axes>"
      ]
     },
     "metadata": {},
     "output_type": "display_data"
    },
    {
     "name": "stdout",
     "output_type": "stream",
     "text": [
      "distribution of calculatedfinishedsquarefeet\n"
     ]
    },
    {
     "data": {
      "image/png": "[encoded data removed]",
      "text/plain": [
       "<Figure size 640x480 with 1 Axes>"
      ]
     },
     "metadata": {},
     "output_type": "display_data"
    },
    {
     "name": "stdout",
     "output_type": "stream",
     "text": [
      "distribution of taxvaluedollarcnt\n"
     ]
    },
    {
     "data": {
      "image/png": "[encoded data removed]",
      "text/plain": [
       "<Figure size 640x480 with 1 Axes>"
      ]
     },
     "metadata": {},
     "output_type": "display_data"
    },
    {
     "name": "stdout",
     "output_type": "stream",
     "text": [
      "distribution of yearbuilt\n"
     ]
    },
    {
     "data": {
      "image/png": "[encoded data removed]",
      "text/plain": [
       "<Figure size 640x480 with 1 Axes>"
      ]
     },
     "metadata": {},
     "output_type": "display_data"
    },
    {
     "name": "stdout",
     "output_type": "stream",
     "text": [
      "distribution of taxamount\n"
     ]
    },
    {
     "data": {
      "image/png": "[encoded data removed]",
      "text/plain": [
       "<Figure size 640x480 with 1 Axes>"
      ]
     },
     "metadata": {},
     "output_type": "display_data"
    },
    {
     "name": "stdout",
     "output_type": "stream",
     "text": [
      "distribution of fips\n"
     ]
    },
    {
     "data": {
      "image/png": "[encoded data removed]",
      "text/plain": [
       "<Figure size 640x480 with 1 Axes>"
      ]
     },
     "metadata": {},
     "output_type": "display_data"
    }
   ],
   "source": [
    "for col in outliers_removed:\n",
    "    print(f'distribution of {col}')\n",
    "    sns.boxplot(data=outliers_removed, x=col)\n",
    "    plt.show()"
   ]
  },
  {
   "cell_type": "code",
   "execution_count": 18,
   "id": "ffe5126d",
   "metadata": {},
   "outputs": [
    {
     "data": {
      "text/plain": [
       "86489       1\n",
       "457153      1\n",
       "280099      1\n",
       "561102      1\n",
       "420903      1\n",
       "         ... \n",
       "440000    680\n",
       "430000    690\n",
       "400000    722\n",
       "500000    773\n",
       "450000    817\n",
       "Name: taxvaluedollarcnt, Length: 586498, dtype: int64"
      ]
     },
     "execution_count": 18,
     "metadata": {},
     "output_type": "execute_result"
    }
   ],
   "source": [
    "df.taxvaluedollarcnt.value_counts().sort_values()"
   ]
  },
  {
   "cell_type": "code",
   "execution_count": null,
   "id": "700a03d6",
   "metadata": {},
   "outputs": [],
   "source": []
  },
  {
   "cell_type": "code",
   "execution_count": 16,
   "id": "c1ea519f",
   "metadata": {},
   "outputs": [],
   "source": [
    "def clean_zillow_sfr(df):\n",
    "    '''\n",
    "    this function will take in a DataFrame of zillow single family resident data,\n",
    "    it will then remove rows will null values, then remove rows with 0 bedrooms or \n",
    "    0 bathrooms, it will then change dtypes of bedroomcnt, calculatedfinishedsquarefeet,\n",
    "    taxvaluedollarcnt, yearbuilt, and fips to integer, then return the cleaned df\n",
    "    '''\n",
    "    # drop rows with null values\n",
    "    df = df.dropna()\n",
    "    # change dtypes of columns to int\n",
    "    df.bedroomcnt = df.bedroomcnt.astype(int)\n",
    "    df.calculatedfinishedsquarefeet = df.calculatedfinishedsquarefeet.astype(int)\n",
    "    df.yearbuilt = df.yearbuilt.astype(int)\n",
    "    df.taxvaluedollarcnt = df.taxvaluedollarcnt.astype(int)\n",
    "    df.fips = df.fips.astype(int)\n",
    "    # drop rows with 0 bedrooms or 0 bathrooms\n",
    "    mask = (df.bathroomcnt == 0) | (df.bedroomcnt == 0)\n",
    "    df = df[~mask]\n",
    "    # there is a house with erronious data \n",
    "    # with 4 bedrooms and 4 bathrooms and 952,576 sq feet. lets drop that\n",
    "    mask = df.calculatedfinishedsquarefeet == df.calculatedfinishedsquarefeet.max()\n",
    "    df = df[~mask]\n",
    "    # return the cleaned dataFrame\n",
    "    return df"
   ]
  },
  {
   "cell_type": "code",
   "execution_count": 19,
   "id": "454c5530",
   "metadata": {},
   "outputs": [],
   "source": [
    "def split_zillow(df):\n",
    "    '''\n",
    "    this function will take in a cleaned zillow dataFrame and return the data split into\n",
    "    train, validate and test dataframes in preparation for ml modeling.\n",
    "    '''\n",
    "    train_val, test = train_test_split(df,\n",
    "                                      random_state=1342,\n",
    "                                      train_size=0.8)\n",
    "    train, validate = train_test_split(train_val,\n",
    "                                      random_state=1342,\n",
    "                                      train_size=0.7)\n",
    "    return train, validate, test"
   ]
  },
  {
   "cell_type": "code",
   "execution_count": 20,
   "id": "96b7e254",
   "metadata": {},
   "outputs": [],
   "source": [
    "def wrangle_zillow():\n",
    "    return split_zillow(\n",
    "        clean_zillow_sfr(\n",
    "            acquire_zillow_sfr()))"
   ]
  },
  {
   "cell_type": "code",
   "execution_count": 21,
   "id": "695f2289",
   "metadata": {},
   "outputs": [
    {
     "name": "stdout",
     "output_type": "stream",
     "text": [
      "opening data from local file\n"
     ]
    },
    {
     "name": "stderr",
     "output_type": "stream",
     "text": [
      "/var/folders/49/v6sf5vy165dghytk4qv6jfhc0000gn/T/ipykernel_2002/211045716.py:11: SettingWithCopyWarning: \n",
      "A value is trying to be set on a copy of a slice from a DataFrame.\n",
      "Try using .loc[row_indexer,col_indexer] = value instead\n",
      "\n",
      "See the caveats in the documentation: https://pandas.pydata.org/pandas-docs/stable/user_guide/indexing.html#returning-a-view-versus-a-copy\n",
      "  df.bedroomcnt = df.bedroomcnt.astype(int)\n",
      "/var/folders/49/v6sf5vy165dghytk4qv6jfhc0000gn/T/ipykernel_2002/211045716.py:12: SettingWithCopyWarning: \n",
      "A value is trying to be set on a copy of a slice from a DataFrame.\n",
      "Try using .loc[row_indexer,col_indexer] = value instead\n",
      "\n",
      "See the caveats in the documentation: https://pandas.pydata.org/pandas-docs/stable/user_guide/indexing.html#returning-a-view-versus-a-copy\n",
      "  df.calculatedfinishedsquarefeet = df.calculatedfinishedsquarefeet.astype(int)\n",
      "/var/folders/49/v6sf5vy165dghytk4qv6jfhc0000gn/T/ipykernel_2002/211045716.py:13: SettingWithCopyWarning: \n",
      "A value is trying to be set on a copy of a slice from a DataFrame.\n",
      "Try using .loc[row_indexer,col_indexer] = value instead\n",
      "\n",
      "See the caveats in the documentation: https://pandas.pydata.org/pandas-docs/stable/user_guide/indexing.html#returning-a-view-versus-a-copy\n",
      "  df.yearbuilt = df.yearbuilt.astype(int)\n",
      "/var/folders/49/v6sf5vy165dghytk4qv6jfhc0000gn/T/ipykernel_2002/211045716.py:14: SettingWithCopyWarning: \n",
      "A value is trying to be set on a copy of a slice from a DataFrame.\n",
      "Try using .loc[row_indexer,col_indexer] = value instead\n",
      "\n",
      "See the caveats in the documentation: https://pandas.pydata.org/pandas-docs/stable/user_guide/indexing.html#returning-a-view-versus-a-copy\n",
      "  df.taxvaluedollarcnt = df.taxvaluedollarcnt.astype(int)\n",
      "/var/folders/49/v6sf5vy165dghytk4qv6jfhc0000gn/T/ipykernel_2002/211045716.py:15: SettingWithCopyWarning: \n",
      "A value is trying to be set on a copy of a slice from a DataFrame.\n",
      "Try using .loc[row_indexer,col_indexer] = value instead\n",
      "\n",
      "See the caveats in the documentation: https://pandas.pydata.org/pandas-docs/stable/user_guide/indexing.html#returning-a-view-versus-a-copy\n",
      "  df.fips = df.fips.astype(int)\n"
     ]
    }
   ],
   "source": [
    "train, validate, test = wrangle_zillow()"
   ]
  },
  {
   "cell_type": "code",
   "execution_count": 22,
   "id": "d6576be7",
   "metadata": {},
   "outputs": [
    {
     "data": {
      "text/plain": [
       "((1195548, 7), (512379, 7), (426982, 7))"
      ]
     },
     "execution_count": 22,
     "metadata": {},
     "output_type": "execute_result"
    }
   ],
   "source": [
    "train.shape, validate.shape, test.shape"
   ]
  },
  {
   "cell_type": "code",
   "execution_count": 35,
   "id": "e864de7d",
   "metadata": {},
   "outputs": [
    {
     "name": "stdout",
     "output_type": "stream",
     "text": [
      "<class 'pandas.core.frame.DataFrame'>\n",
      "Int64Index: 512379 entries, 1521956 to 1969056\n",
      "Data columns (total 7 columns):\n",
      " #   Column                        Non-Null Count   Dtype  \n",
      "---  ------                        --------------   -----  \n",
      " 0   bedroomcnt                    512379 non-null  int64  \n",
      " 1   bathroomcnt                   512379 non-null  float64\n",
      " 2   calculatedfinishedsquarefeet  512379 non-null  int64  \n",
      " 3   taxvaluedollarcnt             512379 non-null  int64  \n",
      " 4   yearbuilt                     512379 non-null  int64  \n",
      " 5   taxamount                     512379 non-null  float64\n",
      " 6   fips                          512379 non-null  int64  \n",
      "dtypes: float64(2), int64(5)\n",
      "memory usage: 31.3 MB\n"
     ]
    }
   ],
   "source": [
    "validate.info()"
   ]
  },
  {
   "cell_type": "code",
   "execution_count": null,
   "id": "b3cb570b",
   "metadata": {},
   "outputs": [],
   "source": []
  }
 ],
 "metadata": {
  "kernelspec": {
   "display_name": "Python 3 (ipykernel)",
   "language": "python",
   "name": "python3"
  },
  "language_info": {
   "codemirror_mode": {
    "name": "ipython",
    "version": 3
   },
   "file_extension": ".py",
   "mimetype": "text/x-python",
   "name": "python",
   "nbconvert_exporter": "python",
   "pygments_lexer": "ipython3",
   "version": "3.9.13"
  }
 },
 "nbformat": 4,
 "nbformat_minor": 5
}
